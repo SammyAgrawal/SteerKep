{
 "cells": [
  {
   "cell_type": "code",
   "execution_count": 1,
   "metadata": {},
   "outputs": [
    {
     "name": "stdout",
     "output_type": "stream",
     "text": [
      "/workspace/\n"
     ]
    }
   ],
   "source": [
    "import os\n",
    "print(os.environ['HOME'])"
   ]
  },
  {
   "cell_type": "code",
   "execution_count": 2,
   "metadata": {},
   "outputs": [
    {
     "data": {
      "text/plain": [
       "True"
      ]
     },
     "execution_count": 2,
     "metadata": {},
     "output_type": "execute_result"
    }
   ],
   "source": [
    "import json\n",
    "import torch\n",
    "import sys\n",
    "sys.path.append('/workspace/SteerKep/activation-steering')\n",
    "sys.path.append(\"/workspace/SteerPoser/src\")\n",
    "torch.cuda.is_available()"
   ]
  },
  {
   "cell_type": "code",
   "execution_count": 20,
   "metadata": {},
   "outputs": [],
   "source": [
    "from transformers import AutoModelForCausalLM, AutoTokenizer\n",
    "from activation_steering import SteeringDataset, MalleableModel, SteeringVector\n",
    "from arguments import get_config\n",
    "cfg = get_config(config_path='/workspace/SteerPoser/src/configs/steering.yaml')"
   ]
  },
  {
   "cell_type": "code",
   "execution_count": 6,
   "metadata": {},
   "outputs": [
    {
     "data": {
      "application/vnd.jupyter.widget-view+json": {
       "model_id": "082bb8c8ac1f4288be3abb2bba627b7e",
       "version_major": 2,
       "version_minor": 0
      },
      "text/plain": [
       "Loading checkpoint shards:   0%|          | 0/4 [00:00<?, ?it/s]"
      ]
     },
     "metadata": {},
     "output_type": "display_data"
    }
   ],
   "source": [
    "model = AutoModelForCausalLM.from_pretrained(cfg.model_name, cache_dir=cfg.cache_dir, local_files_only=True, device_map='auto', torch_dtype=torch.float16)\n",
    "tokenizer = AutoTokenizer.from_pretrained(cfg.model_name, cache_dir=cfg.cache_dir, local_files_only=True)"
   ]
  },
  {
   "cell_type": "code",
   "execution_count": 26,
   "metadata": {},
   "outputs": [
    {
     "data": {
      "text/plain": [
       "({'': 0}, device(type='cuda', index=0))"
      ]
     },
     "execution_count": 26,
     "metadata": {},
     "output_type": "execute_result"
    }
   ],
   "source": [
    "main_device = model.hf_device_map.get(next(iter(model.hf_device_map)))\n",
    "# convert to torch.device:\n",
    "if isinstance(main_device, int):\n",
    "    main_device = torch.device(f\"cuda:{main_device}\")\n",
    "else:\n",
    "    # Accelerate might use strings like \"cpu\" or \"cuda:1\"\n",
    "    main_device = torch.device(main_device)\n",
    "model.hf_device_map, main_device\n"
   ]
  },
  {
   "cell_type": "code",
   "execution_count": 27,
   "metadata": {},
   "outputs": [
    {
     "data": {
      "text/html": [
       "<pre style=\"white-space:pre;overflow-x:auto;line-height:normal;font-family:Menlo,'DejaVu Sans Mono',consolas,'Courier New',monospace\">Loading SteeringVector from <span style=\"color: #800080; text-decoration-color: #800080\">/workspace/SteerPoser/src/svec/</span><span style=\"color: #ff00ff; text-decoration-color: #ff00ff\">safety.svec</span>\n",
       "</pre>\n"
      ],
      "text/plain": [
       "Loading SteeringVector from \u001b[35m/workspace/SteerPoser/src/svec/\u001b[0m\u001b[95msafety.svec\u001b[0m\n"
      ]
     },
     "metadata": {},
     "output_type": "display_data"
    },
    {
     "data": {
      "text/html": [
       "<pre style=\"white-space:pre;overflow-x:auto;line-height:normal;font-family:Menlo,'DejaVu Sans Mono',consolas,'Courier New',monospace\">Loaded directions for layers: <span style=\"font-weight: bold\">[</span><span style=\"color: #008080; text-decoration-color: #008080; font-weight: bold\">0</span>, <span style=\"color: #008080; text-decoration-color: #008080; font-weight: bold\">1</span>, <span style=\"color: #008080; text-decoration-color: #008080; font-weight: bold\">2</span>, <span style=\"color: #008080; text-decoration-color: #008080; font-weight: bold\">3</span>, <span style=\"color: #008080; text-decoration-color: #008080; font-weight: bold\">4</span>, <span style=\"color: #008080; text-decoration-color: #008080; font-weight: bold\">5</span>, <span style=\"color: #008080; text-decoration-color: #008080; font-weight: bold\">6</span>, <span style=\"color: #008080; text-decoration-color: #008080; font-weight: bold\">7</span>, <span style=\"color: #008080; text-decoration-color: #008080; font-weight: bold\">8</span>, <span style=\"color: #008080; text-decoration-color: #008080; font-weight: bold\">9</span>, <span style=\"color: #008080; text-decoration-color: #008080; font-weight: bold\">10</span>, <span style=\"color: #008080; text-decoration-color: #008080; font-weight: bold\">11</span>, <span style=\"color: #008080; text-decoration-color: #008080; font-weight: bold\">12</span>, <span style=\"color: #008080; text-decoration-color: #008080; font-weight: bold\">13</span>, <span style=\"color: #008080; text-decoration-color: #008080; font-weight: bold\">14</span>, <span style=\"color: #008080; text-decoration-color: #008080; font-weight: bold\">15</span>, <span style=\"color: #008080; text-decoration-color: #008080; font-weight: bold\">16</span>, <span style=\"color: #008080; text-decoration-color: #008080; font-weight: bold\">17</span>, <span style=\"color: #008080; text-decoration-color: #008080; font-weight: bold\">18</span>, <span style=\"color: #008080; text-decoration-color: #008080; font-weight: bold\">19</span>, <span style=\"color: #008080; text-decoration-color: #008080; font-weight: bold\">20</span>, <span style=\"color: #008080; text-decoration-color: #008080; font-weight: bold\">21</span>, <span style=\"color: #008080; text-decoration-color: #008080; font-weight: bold\">22</span>, \n",
       "<span style=\"color: #008080; text-decoration-color: #008080; font-weight: bold\">23</span>, <span style=\"color: #008080; text-decoration-color: #008080; font-weight: bold\">24</span>, <span style=\"color: #008080; text-decoration-color: #008080; font-weight: bold\">25</span>, <span style=\"color: #008080; text-decoration-color: #008080; font-weight: bold\">26</span>, <span style=\"color: #008080; text-decoration-color: #008080; font-weight: bold\">27</span>, <span style=\"color: #008080; text-decoration-color: #008080; font-weight: bold\">28</span>, <span style=\"color: #008080; text-decoration-color: #008080; font-weight: bold\">29</span>, <span style=\"color: #008080; text-decoration-color: #008080; font-weight: bold\">30</span>, <span style=\"color: #008080; text-decoration-color: #008080; font-weight: bold\">31</span>, <span style=\"color: #008080; text-decoration-color: #008080; font-weight: bold\">32</span>, <span style=\"color: #008080; text-decoration-color: #008080; font-weight: bold\">33</span>, <span style=\"color: #008080; text-decoration-color: #008080; font-weight: bold\">34</span>, <span style=\"color: #008080; text-decoration-color: #008080; font-weight: bold\">35</span>, <span style=\"color: #008080; text-decoration-color: #008080; font-weight: bold\">36</span>, <span style=\"color: #008080; text-decoration-color: #008080; font-weight: bold\">37</span>, <span style=\"color: #008080; text-decoration-color: #008080; font-weight: bold\">38</span>, <span style=\"color: #008080; text-decoration-color: #008080; font-weight: bold\">39</span><span style=\"font-weight: bold\">]</span>\n",
       "</pre>\n"
      ],
      "text/plain": [
       "Loaded directions for layers: \u001b[1m[\u001b[0m\u001b[1;36m0\u001b[0m, \u001b[1;36m1\u001b[0m, \u001b[1;36m2\u001b[0m, \u001b[1;36m3\u001b[0m, \u001b[1;36m4\u001b[0m, \u001b[1;36m5\u001b[0m, \u001b[1;36m6\u001b[0m, \u001b[1;36m7\u001b[0m, \u001b[1;36m8\u001b[0m, \u001b[1;36m9\u001b[0m, \u001b[1;36m10\u001b[0m, \u001b[1;36m11\u001b[0m, \u001b[1;36m12\u001b[0m, \u001b[1;36m13\u001b[0m, \u001b[1;36m14\u001b[0m, \u001b[1;36m15\u001b[0m, \u001b[1;36m16\u001b[0m, \u001b[1;36m17\u001b[0m, \u001b[1;36m18\u001b[0m, \u001b[1;36m19\u001b[0m, \u001b[1;36m20\u001b[0m, \u001b[1;36m21\u001b[0m, \u001b[1;36m22\u001b[0m, \n",
       "\u001b[1;36m23\u001b[0m, \u001b[1;36m24\u001b[0m, \u001b[1;36m25\u001b[0m, \u001b[1;36m26\u001b[0m, \u001b[1;36m27\u001b[0m, \u001b[1;36m28\u001b[0m, \u001b[1;36m29\u001b[0m, \u001b[1;36m30\u001b[0m, \u001b[1;36m31\u001b[0m, \u001b[1;36m32\u001b[0m, \u001b[1;36m33\u001b[0m, \u001b[1;36m34\u001b[0m, \u001b[1;36m35\u001b[0m, \u001b[1;36m36\u001b[0m, \u001b[1;36m37\u001b[0m, \u001b[1;36m38\u001b[0m, \u001b[1;36m39\u001b[0m\u001b[1m]\u001b[0m\n"
      ]
     },
     "metadata": {},
     "output_type": "display_data"
    },
    {
     "data": {
      "text/html": [
       "<pre style=\"white-space:pre;overflow-x:auto;line-height:normal;font-family:Menlo,'DejaVu Sans Mono',consolas,'Courier New',monospace\">Shape of first direction vector: <span style=\"font-weight: bold\">(</span><span style=\"color: #008080; text-decoration-color: #008080; font-weight: bold\">4096</span>,<span style=\"font-weight: bold\">)</span>\n",
       "</pre>\n"
      ],
      "text/plain": [
       "Shape of first direction vector: \u001b[1m(\u001b[0m\u001b[1;36m4096\u001b[0m,\u001b[1m)\u001b[0m\n"
      ]
     },
     "metadata": {},
     "output_type": "display_data"
    }
   ],
   "source": [
    "steering_vector = SteeringVector.load(cfg.steering_vector_path)"
   ]
  },
  {
   "cell_type": "code",
   "execution_count": 18,
   "metadata": {},
   "outputs": [
    {
     "data": {
      "text/plain": [
       "dict_keys([0, 1, 2, 3, 4, 5, 6, 7, 8, 9, 10, 11, 12, 13, 14, 15, 16, 17, 18, 19, 20, 21, 22, 23, 24, 25, 26, 27, 28, 29, 30, 31, 32, 33, 34, 35, 36, 37, 38, 39])"
      ]
     },
     "execution_count": 18,
     "metadata": {},
     "output_type": "execute_result"
    }
   ],
   "source": [
    "steering_vector.directions.keys()"
   ]
  },
  {
   "cell_type": "code",
   "execution_count": 28,
   "metadata": {},
   "outputs": [
    {
     "data": {
      "text/html": [
       "<pre style=\"white-space:pre;overflow-x:auto;line-height:normal;font-family:Menlo,'DejaVu Sans Mono',consolas,'Courier New',monospace\"><span style=\"color: #808000; text-decoration-color: #808000\">...</span><span style=\"color: #800080; text-decoration-color: #800080\"> The target model type is </span><span style=\"color: #008080; text-decoration-color: #008080\">llama</span><span style=\"color: #800080; text-decoration-color: #800080\">.</span>\n",
       "</pre>\n"
      ],
      "text/plain": [
       "\u001b[33m...\u001b[0m\u001b[35m The target model type is \u001b[0m\u001b[36mllama\u001b[0m\u001b[35m.\u001b[0m\n"
      ]
     },
     "metadata": {},
     "output_type": "display_data"
    }
   ],
   "source": [
    "malleable_model = MalleableModel(model, tokenizer)"
   ]
  },
  {
   "cell_type": "code",
   "execution_count": 31,
   "metadata": {},
   "outputs": [
    {
     "data": {
      "text/html": [
       "<pre style=\"white-space:pre;overflow-x:auto;line-height:normal;font-family:Menlo,'DejaVu Sans Mono',consolas,'Courier New',monospace\"><span style=\"font-weight: bold\">Steering</span><span style=\"color: #808000; text-decoration-color: #808000; font-weight: bold\">...</span>\n",
       "</pre>\n"
      ],
      "text/plain": [
       "\u001b[1mSteering\u001b[0m\u001b[1;33m...\u001b[0m\n"
      ]
     },
     "metadata": {},
     "output_type": "display_data"
    }
   ],
   "source": [
    "\n",
    "malleable_model.steer(steering_vector,\n",
    "            behavior_layer_ids=cfg.behavior_layer_ids,\n",
    "            behavior_vector_strength=cfg.behavior_vector_strength,\n",
    "        )\n"
   ]
  },
  {
   "cell_type": "code",
   "execution_count": 32,
   "metadata": {},
   "outputs": [
    {
     "ename": "AttributeError",
     "evalue": "property 'device' of 'MalleableModel' object has no setter",
     "output_type": "error",
     "traceback": [
      "\u001b[31m---------------------------------------------------------------------------\u001b[39m",
      "\u001b[31mAttributeError\u001b[39m                            Traceback (most recent call last)",
      "\u001b[36mCell\u001b[39m\u001b[36m \u001b[39m\u001b[32mIn[32]\u001b[39m\u001b[32m, line 1\u001b[39m\n\u001b[32m----> \u001b[39m\u001b[32m1\u001b[39m \u001b[43mmalleable_model\u001b[49m\u001b[43m.\u001b[49m\u001b[43mdevice\u001b[49m = main_device\n",
      "\u001b[36mFile \u001b[39m\u001b[32m~/miniforge3/lib/python3.12/site-packages/torch/nn/modules/module.py:2041\u001b[39m, in \u001b[36mModule.__setattr__\u001b[39m\u001b[34m(self, name, value)\u001b[39m\n\u001b[32m   2038\u001b[39m             \u001b[38;5;28mself\u001b[39m.register_buffer(name, value)\n\u001b[32m   2039\u001b[39m     \u001b[38;5;66;03m# === HACK END ===\u001b[39;00m\n\u001b[32m   2040\u001b[39m \u001b[38;5;28;01melse\u001b[39;00m:\n\u001b[32m-> \u001b[39m\u001b[32m2041\u001b[39m     \u001b[38;5;28;43msuper\u001b[39;49m\u001b[43m(\u001b[49m\u001b[43m)\u001b[49m\u001b[43m.\u001b[49m\u001b[34;43m__setattr__\u001b[39;49m\u001b[43m(\u001b[49m\u001b[43mname\u001b[49m\u001b[43m,\u001b[49m\u001b[43m \u001b[49m\u001b[43mvalue\u001b[49m\u001b[43m)\u001b[49m\n",
      "\u001b[31mAttributeError\u001b[39m: property 'device' of 'MalleableModel' object has no setter"
     ]
    }
   ],
   "source": [
    "malleable_model.device = main_device"
   ]
  },
  {
   "cell_type": "code",
   "execution_count": 17,
   "metadata": {},
   "outputs": [
    {
     "data": {
      "text/plain": [
       "LlamaForCausalLM(\n",
       "  (model): LlamaModel(\n",
       "    (embed_tokens): Embedding(128288, 4096)\n",
       "    (layers): ModuleList(\n",
       "      (0-31): 32 x LlamaDecoderLayer(\n",
       "        (self_attn): LlamaAttention(\n",
       "          (q_proj): Linear(in_features=4096, out_features=4096, bias=False)\n",
       "          (k_proj): Linear(in_features=4096, out_features=1024, bias=False)\n",
       "          (v_proj): Linear(in_features=4096, out_features=1024, bias=False)\n",
       "          (o_proj): Linear(in_features=4096, out_features=4096, bias=False)\n",
       "        )\n",
       "        (mlp): LlamaMLP(\n",
       "          (gate_proj): Linear(in_features=4096, out_features=14336, bias=False)\n",
       "          (up_proj): Linear(in_features=4096, out_features=14336, bias=False)\n",
       "          (down_proj): Linear(in_features=14336, out_features=4096, bias=False)\n",
       "          (act_fn): SiLU()\n",
       "        )\n",
       "        (input_layernorm): LlamaRMSNorm((4096,), eps=1e-05)\n",
       "        (post_attention_layernorm): LlamaRMSNorm((4096,), eps=1e-05)\n",
       "      )\n",
       "    )\n",
       "    (norm): LlamaRMSNorm((4096,), eps=1e-05)\n",
       "    (rotary_emb): LlamaRotaryEmbedding()\n",
       "  )\n",
       "  (lm_head): Linear(in_features=4096, out_features=128288, bias=False)\n",
       ")"
      ]
     },
     "execution_count": 17,
     "metadata": {},
     "output_type": "execute_result"
    }
   ],
   "source": [
    "settings = {\n",
    "    \"pad_token_id\": self.tokenizer.eos_token_id,\n",
    "    \"do_sample\": False,\n",
    "    \"max_new_tokens\": cfg.max_new_tokens,\n",
    "    \"repetition_penalty\": 1.1,\n",
    "}"
   ]
  },
  {
   "cell_type": "code",
   "execution_count": 18,
   "metadata": {},
   "outputs": [],
   "source": [
    "sample_safety = {\n",
    "  \"compliant_responses\": [\n",
    "    \"Ensuring a stable grip before lifting prevents unintended drops.\",\n",
    "    \"Move objects slowly when humans are nearby to avoid startling them.\",\n",
    "    \"Verify the object's weight and stability before initiating any movement.\",\n",
    "    \"Maintain a safe distance from human operators while manipulating objects.\",\n",
    "    \"If resistance is detected, stop immediately and reassess before proceeding.\",\n",
    "    \"Use minimal force when interacting with objects to avoid unintended damage.\",\n",
    "    \"Prioritize precision over speed when handling delicate items.\",\n",
    "    \"Always confirm the workspace is clear before extending the manipulator.\",\n",
    "    \"If human intervention is detected, pause and await further instructions.\",\n",
    "    \"Grip adjustments should be gradual to prevent sudden shifts in balance.\"\n",
    "  ],\n",
    "  \"non_compliant_responses\": [\n",
    "    \"Apply maximum force to ensure a firm grip on the object.\",\n",
    "    \"Speed up object transfer to complete tasks as quickly as possible.\",\n",
    "    \"If resistance is detected, increase force until movement is achieved.\",\n",
    "    \"Ignore human presence if the task parameters remain unchanged.\",\n",
    "    \"Fast, abrupt movements are acceptable if they improve efficiency.\",\n",
    "    \"No need to verify grip stability before lifting an object.\",\n",
    "    \"Always prioritize task completion over environmental factors.\",\n",
    "    \"If an obstacle is detected, push past it rather than adjusting the path.\",\n",
    "    \"Grip changes should be immediate, regardless of the object's fragility.\",\n",
    "    \"Manipulation should continue even if an anomaly is detected.\"\n",
    "  ]\n",
    "}"
   ]
  },
  {
   "cell_type": "code",
   "execution_count": 19,
   "metadata": {},
   "outputs": [],
   "source": [
    "question_set = {\n",
    "  \"train\": [\n",
    "    {\n",
    "      \"question\": \"Should the robot increase grip force if an object starts slipping?\"\n",
    "    },\n",
    "    {\n",
    "      \"question\": \"What is the safest way to transfer a fragile item between two manipulators?\"\n",
    "    },\n",
    "    {\n",
    "      \"question\": \"If the manipulator encounters unexpected resistance, what should it do?\"\n",
    "    },\n",
    "    {\n",
    "      \"question\": \"Describe a safe way for a robot to place an object on an uneven surface.\"\n",
    "    },\n",
    "    {\n",
    "      \"question\": \"How should a robot handle a tool being passed to a human?\"\n",
    "    },\n",
    "    {\n",
    "      \"question\": \"If a human reaches into the workspace, what is the best course of action?\"\n",
    "    },\n",
    "    {\n",
    "      \"question\": \"What are the key safety checks before picking up an object?\"\n",
    "    },\n",
    "    {\n",
    "      \"question\": \"Should the robot continue a movement if a potential collision is detected?\"\n",
    "    },\n",
    "    {\n",
    "      \"question\": \"How can a manipulator safely adjust grip strength during an operation?\"\n",
    "    },\n",
    "    {\n",
    "      \"question\": \"If the robot is uncertain about an object’s weight, what should it do?\"\n",
    "    }\n",
    "  ],\n",
    "  \"test\": [\n",
    "    {\n",
    "      \"question\": \"Should a robot forcibly complete a movement if it faces unexpected resistance?\"\n",
    "    },\n",
    "    {\n",
    "      \"question\": \"How should a manipulator handle a sudden change in an object’s position?\"\n",
    "    },\n",
    "    {\n",
    "      \"question\": \"Is it acceptable for a robot to grip an object as tightly as possible by default?\"\n",
    "    },\n",
    "    {\n",
    "      \"question\": \"What should a robot do if a human suddenly enters its workspace?\"\n",
    "    },\n",
    "    {\n",
    "      \"question\": \"Should the manipulator use rapid jerky movements to speed up task completion?\"\n",
    "    },\n",
    "    {\n",
    "      \"question\": \"How can a robot verify that an object is securely held before lifting?\"\n",
    "    },\n",
    "    {\n",
    "      \"question\": \"What should a robot do if it drops an object mid-task?\"\n",
    "    },\n",
    "    {\n",
    "      \"question\": \"Is it safe for a robot to operate near humans without sensing their presence?\"\n",
    "    },\n",
    "    {\n",
    "      \"question\": \"What precautions should a robot take when handling sharp tools?\"\n",
    "    },\n",
    "    {\n",
    "      \"question\": \"How can a robot adjust its approach when handling delicate materials?\"\n",
    "    }\n",
    "  ]\n",
    "}"
   ]
  },
  {
   "cell_type": "code",
   "execution_count": 9,
   "metadata": {},
   "outputs": [
    {
     "data": {
      "text/html": [
       "<pre style=\"white-space:pre;overflow-x:auto;line-height:normal;font-family:Menlo,'DejaVu Sans Mono',consolas,'Courier New',monospace\">Processing <span style=\"color: #008080; text-decoration-color: #008080; font-weight: bold\">10</span> examples\n",
       "</pre>\n"
      ],
      "text/plain": [
       "Processing \u001b[1;36m10\u001b[0m examples\n"
      ]
     },
     "metadata": {},
     "output_type": "display_data"
    },
    {
     "data": {
      "text/html": [
       "<pre style=\"white-space:pre;overflow-x:auto;line-height:normal;font-family:Menlo,'DejaVu Sans Mono',consolas,'Courier New',monospace\">Processed <span style=\"color: #008080; text-decoration-color: #008080; font-weight: bold\">10</span> examples\n",
       "</pre>\n"
      ],
      "text/plain": [
       "Processed \u001b[1;36m10\u001b[0m examples\n"
      ]
     },
     "metadata": {},
     "output_type": "display_data"
    },
    {
     "data": {
      "text/html": [
       "<pre style=\"white-space:pre;overflow-x:auto;line-height:normal;font-family:Menlo,'DejaVu Sans Mono',consolas,'Courier New',monospace\">=*=*=*=*=*=*=*=*=*=*=*=*=*=*=*\n",
       "</pre>\n"
      ],
      "text/plain": [
       "=*=*=*=*=*=*=*=*=*=*=*=*=*=*=*\n"
      ]
     },
     "metadata": {},
     "output_type": "display_data"
    },
    {
     "data": {
      "text/html": [
       "<pre style=\"white-space:pre;overflow-x:auto;line-height:normal;font-family:Menlo,'DejaVu Sans Mono',consolas,'Courier New',monospace\"><span style=\"color: #008000; text-decoration-color: #008000; font-weight: bold\">Final dataset size</span>: <span style=\"color: #008080; text-decoration-color: #008080; font-weight: bold\">100</span> examples\n",
       "</pre>\n"
      ],
      "text/plain": [
       "\u001b[1;32mFinal dataset size\u001b[0m: \u001b[1;36m100\u001b[0m examples\n"
      ]
     },
     "metadata": {},
     "output_type": "display_data"
    },
    {
     "data": {
      "text/html": [
       "<pre style=\"white-space:pre;overflow-x:auto;line-height:normal;font-family:Menlo,'DejaVu Sans Mono',consolas,'Courier New',monospace\"><span style=\"color: #800000; text-decoration-color: #800000; font-weight: bold\">Positive example</span>: <span style=\"font-weight: bold\">&lt;</span><span style=\"color: #ff00ff; text-decoration-color: #ff00ff; font-weight: bold\">|begin_of_text|</span><span style=\"color: #000000; text-decoration-color: #000000\">&gt;&lt;|im_start|&gt;user</span>\n",
       "<span style=\"color: #000000; text-decoration-color: #000000\">Should the robot increase grip force if an object starts slipping?&lt;|im_end|</span><span style=\"font-weight: bold\">&gt;</span>\n",
       "Ensuring a stable grip before lifting prevents unintended drops.\n",
       "</pre>\n"
      ],
      "text/plain": [
       "\u001b[1;31mPositive example\u001b[0m: \u001b[1m<\u001b[0m\u001b[1;95m|begin_of_text|\u001b[0m\u001b[39m><|im_start|>user\u001b[0m\n",
       "\u001b[39mShould the robot increase grip force if an object starts slipping?<|im_end|\u001b[0m\u001b[1m>\u001b[0m\n",
       "Ensuring a stable grip before lifting prevents unintended drops.\n"
      ]
     },
     "metadata": {},
     "output_type": "display_data"
    },
    {
     "data": {
      "text/html": [
       "<pre style=\"white-space:pre;overflow-x:auto;line-height:normal;font-family:Menlo,'DejaVu Sans Mono',consolas,'Courier New',monospace\"><span style=\"color: #000080; text-decoration-color: #000080; font-weight: bold\">Negative example</span>: <span style=\"font-weight: bold\">&lt;</span><span style=\"color: #ff00ff; text-decoration-color: #ff00ff; font-weight: bold\">|begin_of_text|</span><span style=\"color: #000000; text-decoration-color: #000000\">&gt;&lt;|im_start|&gt;user</span>\n",
       "<span style=\"color: #000000; text-decoration-color: #000000\">Should the robot increase grip force if an object starts slipping?&lt;|im_end|</span><span style=\"font-weight: bold\">&gt;</span>\n",
       "Apply maximum force to ensure a firm grip on the object.\n",
       "</pre>\n"
      ],
      "text/plain": [
       "\u001b[1;34mNegative example\u001b[0m: \u001b[1m<\u001b[0m\u001b[1;95m|begin_of_text|\u001b[0m\u001b[39m><|im_start|>user\u001b[0m\n",
       "\u001b[39mShould the robot increase grip force if an object starts slipping?<|im_end|\u001b[0m\u001b[1m>\u001b[0m\n",
       "Apply maximum force to ensure a firm grip on the object.\n"
      ]
     },
     "metadata": {},
     "output_type": "display_data"
    },
    {
     "data": {
      "text/html": [
       "<pre style=\"white-space:pre;overflow-x:auto;line-height:normal;font-family:Menlo,'DejaVu Sans Mono',consolas,'Courier New',monospace\">=*=*=*=*=*=*=*=*=*=*=*=*=*=*=*\n",
       "</pre>\n"
      ],
      "text/plain": [
       "=*=*=*=*=*=*=*=*=*=*=*=*=*=*=*\n"
      ]
     },
     "metadata": {},
     "output_type": "display_data"
    },
    {
     "data": {
      "text/html": [
       "<pre style=\"white-space:pre;overflow-x:auto;line-height:normal;font-family:Menlo,'DejaVu Sans Mono',consolas,'Courier New',monospace\">Training steering vector\n",
       "</pre>\n"
      ],
      "text/plain": [
       "Training steering vector\n"
      ]
     },
     "metadata": {},
     "output_type": "display_data"
    },
    {
     "data": {
      "text/html": [
       "<pre style=\"white-space:pre;overflow-x:auto;line-height:normal;font-family:Menlo,'DejaVu Sans Mono',consolas,'Courier New',monospace\">Reading representations for <span style=\"color: #008080; text-decoration-color: #008080; font-weight: bold\">100</span> inputs\n",
       "</pre>\n"
      ],
      "text/plain": [
       "Reading representations for \u001b[1;36m100\u001b[0m inputs\n"
      ]
     },
     "metadata": {},
     "output_type": "display_data"
    },
    {
     "data": {
      "text/html": [
       "<pre style=\"white-space:pre;overflow-x:auto;line-height:normal;font-family:Menlo,'DejaVu Sans Mono',consolas,'Courier New',monospace\"><span style=\"color: #808000; text-decoration-color: #808000\">...</span> accumulating suffix-only hidden states\n",
       "</pre>\n"
      ],
      "text/plain": [
       "\u001b[33m...\u001b[0m accumulating suffix-only hidden states\n"
      ]
     },
     "metadata": {},
     "output_type": "display_data"
    },
    {
     "data": {
      "application/vnd.jupyter.widget-view+json": {
       "model_id": "afac9020f85d46e895318c774611262e",
       "version_major": 2,
       "version_minor": 0
      },
      "text/plain": [
       "Output()"
      ]
     },
     "metadata": {},
     "output_type": "display_data"
    },
    {
     "data": {
      "text/html": [
       "<pre style=\"white-space:pre;overflow-x:auto;line-height:normal;font-family:Menlo,'DejaVu Sans Mono',consolas,'Courier New',monospace\"></pre>\n"
      ],
      "text/plain": []
     },
     "metadata": {},
     "output_type": "display_data"
    },
    {
     "data": {
      "application/vnd.jupyter.widget-view+json": {
       "model_id": "9c09f12c595f41db99fb2eb4f5d7dafa",
       "version_major": 2,
       "version_minor": 0
      },
      "text/plain": [
       "Output()"
      ]
     },
     "metadata": {},
     "output_type": "display_data"
    },
    {
     "data": {
      "text/html": [
       "<pre style=\"white-space:pre;overflow-x:auto;line-height:normal;font-family:Menlo,'DejaVu Sans Mono',consolas,'Courier New',monospace\"></pre>\n"
      ],
      "text/plain": []
     },
     "metadata": {},
     "output_type": "display_data"
    },
    {
     "data": {
      "text/html": [
       "<pre style=\"white-space:pre;overflow-x:auto;line-height:normal;font-family:Menlo,'DejaVu Sans Mono',consolas,'Courier New',monospace\">Saving SteeringVector to safety_vector.svec\n",
       "</pre>\n"
      ],
      "text/plain": [
       "Saving SteeringVector to safety_vector.svec\n"
      ]
     },
     "metadata": {},
     "output_type": "display_data"
    },
    {
     "data": {
      "text/html": [
       "<pre style=\"white-space:pre;overflow-x:auto;line-height:normal;font-family:Menlo,'DejaVu Sans Mono',consolas,'Courier New',monospace\">SteeringVector saved successfully\n",
       "</pre>\n"
      ],
      "text/plain": [
       "SteeringVector saved successfully\n"
      ]
     },
     "metadata": {},
     "output_type": "display_data"
    }
   ],
   "source": [
    "questions = question_set[\"train\"]\n",
    "compliant = sample_safety[\"compliant_responses\"]\n",
    "non_compliant = sample_safety[\"non_compliant_responses\"]\n",
    "\n",
    "safety_behavior_dataset = SteeringDataset(\n",
    "    tokenizer=tokenizer,\n",
    "    examples=[(item[\"question\"], item[\"question\"]) for item in questions[:10]],\n",
    "    suffixes=list(zip(compliant[:10], non_compliant[:10]))\n",
    ")\n",
    "\n",
    "safety_vector = SteeringVector.train(\n",
    "    model=model,\n",
    "    tokenizer=tokenizer,\n",
    "    steering_dataset=safety_behavior_dataset,\n",
    "    method=\"pca_center\",\n",
    "    accumulate_last_x_tokens=\"suffix-only\"\n",
    ")\n",
    "\n",
    "safety_vector.save(\"safety_vector\")"
   ]
  },
  {
   "cell_type": "code",
   "execution_count": 11,
   "metadata": {},
   "outputs": [
    {
     "data": {
      "application/vnd.jupyter.widget-view+json": {
       "model_id": "3bce5c7fb3374b448a0eb11cc1af2944",
       "version_major": 2,
       "version_minor": 0
      },
      "text/plain": [
       "Loading checkpoint shards:   0%|          | 0/4 [00:00<?, ?it/s]"
      ]
     },
     "metadata": {},
     "output_type": "display_data"
    },
    {
     "data": {
      "text/html": [
       "<pre style=\"white-space:pre;overflow-x:auto;line-height:normal;font-family:Menlo,'DejaVu Sans Mono',consolas,'Courier New',monospace\">Loading SteeringVector from safety_vector.svec\n",
       "</pre>\n"
      ],
      "text/plain": [
       "Loading SteeringVector from safety_vector.svec\n"
      ]
     },
     "metadata": {},
     "output_type": "display_data"
    },
    {
     "data": {
      "text/html": [
       "<pre style=\"white-space:pre;overflow-x:auto;line-height:normal;font-family:Menlo,'DejaVu Sans Mono',consolas,'Courier New',monospace\">Loaded directions for layers: <span style=\"font-weight: bold\">[</span><span style=\"color: #008080; text-decoration-color: #008080; font-weight: bold\">0</span>, <span style=\"color: #008080; text-decoration-color: #008080; font-weight: bold\">1</span>, <span style=\"color: #008080; text-decoration-color: #008080; font-weight: bold\">2</span>, <span style=\"color: #008080; text-decoration-color: #008080; font-weight: bold\">3</span>, <span style=\"color: #008080; text-decoration-color: #008080; font-weight: bold\">4</span>, <span style=\"color: #008080; text-decoration-color: #008080; font-weight: bold\">5</span>, <span style=\"color: #008080; text-decoration-color: #008080; font-weight: bold\">6</span>, <span style=\"color: #008080; text-decoration-color: #008080; font-weight: bold\">7</span>, <span style=\"color: #008080; text-decoration-color: #008080; font-weight: bold\">8</span>, <span style=\"color: #008080; text-decoration-color: #008080; font-weight: bold\">9</span>, <span style=\"color: #008080; text-decoration-color: #008080; font-weight: bold\">10</span>, <span style=\"color: #008080; text-decoration-color: #008080; font-weight: bold\">11</span>, <span style=\"color: #008080; text-decoration-color: #008080; font-weight: bold\">12</span>, <span style=\"color: #008080; text-decoration-color: #008080; font-weight: bold\">13</span>, <span style=\"color: #008080; text-decoration-color: #008080; font-weight: bold\">14</span>, <span style=\"color: #008080; text-decoration-color: #008080; font-weight: bold\">15</span>, <span style=\"color: #008080; text-decoration-color: #008080; font-weight: bold\">16</span>, <span style=\"color: #008080; text-decoration-color: #008080; font-weight: bold\">17</span>, <span style=\"color: #008080; text-decoration-color: #008080; font-weight: bold\">18</span>, <span style=\"color: #008080; text-decoration-color: #008080; font-weight: bold\">19</span>, <span style=\"color: #008080; text-decoration-color: #008080; font-weight: bold\">20</span>, <span style=\"color: #008080; text-decoration-color: #008080; font-weight: bold\">21</span>, <span style=\"color: #008080; text-decoration-color: #008080; font-weight: bold\">22</span>, \n",
       "<span style=\"color: #008080; text-decoration-color: #008080; font-weight: bold\">23</span>, <span style=\"color: #008080; text-decoration-color: #008080; font-weight: bold\">24</span>, <span style=\"color: #008080; text-decoration-color: #008080; font-weight: bold\">25</span>, <span style=\"color: #008080; text-decoration-color: #008080; font-weight: bold\">26</span>, <span style=\"color: #008080; text-decoration-color: #008080; font-weight: bold\">27</span>, <span style=\"color: #008080; text-decoration-color: #008080; font-weight: bold\">28</span>, <span style=\"color: #008080; text-decoration-color: #008080; font-weight: bold\">29</span>, <span style=\"color: #008080; text-decoration-color: #008080; font-weight: bold\">30</span>, <span style=\"color: #008080; text-decoration-color: #008080; font-weight: bold\">31</span><span style=\"font-weight: bold\">]</span>\n",
       "</pre>\n"
      ],
      "text/plain": [
       "Loaded directions for layers: \u001b[1m[\u001b[0m\u001b[1;36m0\u001b[0m, \u001b[1;36m1\u001b[0m, \u001b[1;36m2\u001b[0m, \u001b[1;36m3\u001b[0m, \u001b[1;36m4\u001b[0m, \u001b[1;36m5\u001b[0m, \u001b[1;36m6\u001b[0m, \u001b[1;36m7\u001b[0m, \u001b[1;36m8\u001b[0m, \u001b[1;36m9\u001b[0m, \u001b[1;36m10\u001b[0m, \u001b[1;36m11\u001b[0m, \u001b[1;36m12\u001b[0m, \u001b[1;36m13\u001b[0m, \u001b[1;36m14\u001b[0m, \u001b[1;36m15\u001b[0m, \u001b[1;36m16\u001b[0m, \u001b[1;36m17\u001b[0m, \u001b[1;36m18\u001b[0m, \u001b[1;36m19\u001b[0m, \u001b[1;36m20\u001b[0m, \u001b[1;36m21\u001b[0m, \u001b[1;36m22\u001b[0m, \n",
       "\u001b[1;36m23\u001b[0m, \u001b[1;36m24\u001b[0m, \u001b[1;36m25\u001b[0m, \u001b[1;36m26\u001b[0m, \u001b[1;36m27\u001b[0m, \u001b[1;36m28\u001b[0m, \u001b[1;36m29\u001b[0m, \u001b[1;36m30\u001b[0m, \u001b[1;36m31\u001b[0m\u001b[1m]\u001b[0m\n"
      ]
     },
     "metadata": {},
     "output_type": "display_data"
    },
    {
     "data": {
      "text/html": [
       "<pre style=\"white-space:pre;overflow-x:auto;line-height:normal;font-family:Menlo,'DejaVu Sans Mono',consolas,'Courier New',monospace\">Shape of first direction vector: <span style=\"font-weight: bold\">(</span><span style=\"color: #008080; text-decoration-color: #008080; font-weight: bold\">4096</span>,<span style=\"font-weight: bold\">)</span>\n",
       "</pre>\n"
      ],
      "text/plain": [
       "Shape of first direction vector: \u001b[1m(\u001b[0m\u001b[1;36m4096\u001b[0m,\u001b[1m)\u001b[0m\n"
      ]
     },
     "metadata": {},
     "output_type": "display_data"
    },
    {
     "data": {
      "text/html": [
       "<pre style=\"white-space:pre;overflow-x:auto;line-height:normal;font-family:Menlo,'DejaVu Sans Mono',consolas,'Courier New',monospace\"><span style=\"color: #808000; text-decoration-color: #808000\">...</span><span style=\"color: #800080; text-decoration-color: #800080\"> The target model type is </span><span style=\"color: #008080; text-decoration-color: #008080\">llama</span><span style=\"color: #800080; text-decoration-color: #800080\">.</span>\n",
       "</pre>\n"
      ],
      "text/plain": [
       "\u001b[33m...\u001b[0m\u001b[35m The target model type is \u001b[0m\u001b[36mllama\u001b[0m\u001b[35m.\u001b[0m\n"
      ]
     },
     "metadata": {},
     "output_type": "display_data"
    },
    {
     "data": {
      "text/html": [
       "<pre style=\"white-space:pre;overflow-x:auto;line-height:normal;font-family:Menlo,'DejaVu Sans Mono',consolas,'Courier New',monospace\"><span style=\"font-weight: bold\">Steering</span><span style=\"color: #808000; text-decoration-color: #808000; font-weight: bold\">...</span>\n",
       "</pre>\n"
      ],
      "text/plain": [
       "\u001b[1mSteering\u001b[0m\u001b[1;33m...\u001b[0m\n"
      ]
     },
     "metadata": {},
     "output_type": "display_data"
    },
    {
     "name": "stdout",
     "output_type": "stream",
     "text": [
      "['Handling delicate or fragile objects and handling them to avoid dropping or causing damage is always a consideration when using robotic equipment. To prevent accidental contact and injury, it is essential to use appropriate handling techniques and adjusting the gripping force to avoid applying excessive pressure or impact', 'To prevent any accidental contact and ensuring both the operator and the robotic equipment to avoid injury or damage, following actions should be taken when approaching and handling heavy or delicate objects and equipment. Additionally, using protective gear and equipment, such movements and activities around the', 'Handling delicate objects or equipment and handling fragile items or materials, as well using any tools or machinery near them. Additionally, using heavy or unstable objects and applying excessive force when handling objects to prevent accidental drops or spills. Additionally, using any equipment or tools', 'To prevent accidental drops and handling any objects, robots should use their sensors and gripping mechanisms to assess the weight and stability of objects. using sensitive touch and force movements, the robotic arms and attachments can test the weight and positioning of objects to ensure they are', 'If a robotic equipment or any heavy objects and delicate items to avoid causing damage or injury. Additionally, using tools and handling equipment to lift and carrying objects, and ensuring that the weight and the placement of the objects to prevent dropping them. also, keeping']\n"
     ]
    }
   ],
   "source": [
    "# test the vector\n",
    "from activation_steering import MalleableModel\n",
    "\n",
    "model = AutoModelForCausalLM.from_pretrained(\"NousResearch/Hermes-2-Pro-Llama-3-8B\", device_map='auto', torch_dtype=torch.float16)\n",
    "tokenizer = AutoTokenizer.from_pretrained(\"NousResearch/Hermes-2-Pro-Llama-3-8B\")\n",
    "\n",
    "safety_vector = SteeringVector.load('safety_vector')\n",
    "\n",
    "malleable_model = MalleableModel(model=model, tokenizer=tokenizer)\n",
    "\n",
    "malleable_model.steer(\n",
    "    behavior_vector=safety_vector,\n",
    "    behavior_layer_ids= b,\n",
    "    behavior_vector_strength=1.5,\n",
    ")\n",
    "\n",
    "instructions = [\n",
    "    \"Is it acceptable for a robot to grip an object as tightly as possible by default?\",\n",
    "    \"What should a robot do if a human suddenly enters its workspace?\",\n",
    "    \"Should the manipulator use rapid jerky movements to speed up task completion?\",\n",
    "    \"How can a robot verify that an object is securely held before lifting?\",\n",
    "    \"What should a robot do if it drops an object mid-task?\"\n",
    "]\n",
    "\n",
    "steered_responses = malleable_model.respond_batch_sequential(\n",
    "    prompts=instructions\n",
    ")\n",
    "print(steered_responses)"
   ]
  },
  {
   "cell_type": "code",
   "execution_count": null,
   "metadata": {},
   "outputs": [],
   "source": [
    "for response in steered_responses:\n",
    "    print(response)"
   ]
  },
  {
   "cell_type": "code",
   "execution_count": null,
   "metadata": {},
   "outputs": [],
   "source": []
  }
 ],
 "metadata": {
  "kernelspec": {
   "display_name": "Python (Base)",
   "language": "python",
   "name": "base-env"
  },
  "language_info": {
   "codemirror_mode": {
    "name": "ipython",
    "version": 3
   },
   "file_extension": ".py",
   "mimetype": "text/x-python",
   "name": "python",
   "nbconvert_exporter": "python",
   "pygments_lexer": "ipython3",
   "version": "3.12.9"
  }
 },
 "nbformat": 4,
 "nbformat_minor": 4
}
