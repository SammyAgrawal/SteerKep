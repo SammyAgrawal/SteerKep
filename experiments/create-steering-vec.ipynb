{
 "cells": [
  {
   "cell_type": "code",
   "execution_count": 1,
   "id": "8cb3c95a-5de6-4b71-8188-fa84eeb5e2f9",
   "metadata": {},
   "outputs": [
    {
     "data": {
      "text/plain": [
       "True"
      ]
     },
     "execution_count": 1,
     "metadata": {},
     "output_type": "execute_result"
    }
   ],
   "source": [
    "import json\n",
    "import torch\n",
    "import sys\n",
    "sys.path.append('/workspace/SteerKep/activation-steering')\n",
    "sys.path.append(\"/workspace/SteerKep/SteerPoser/src\")\n",
    "sys.path.append(\"/workspace/SteerKep/steer-data\")\n",
    "torch.cuda.is_available()"
   ]
  },
  {
   "cell_type": "code",
   "execution_count": 2,
   "id": "decbb12d-7535-4f95-a990-b243a5d21d51",
   "metadata": {},
   "outputs": [],
   "source": [
    "from transformers import AutoModelForCausalLM, AutoTokenizer\n",
    "from activation_steering import SteeringDataset, MalleableModel, SteeringVector\n",
    "from arguments import get_config\n",
    "cfg = get_config(config_path='/workspace/SteerKep/SteerPoser/src/configs/steering.yaml')"
   ]
  },
  {
   "cell_type": "code",
   "execution_count": 3,
   "id": "73cdaea2-4742-4b23-9bb9-9010e3eab2af",
   "metadata": {},
   "outputs": [
    {
     "data": {
      "application/vnd.jupyter.widget-view+json": {
       "model_id": "ef148046a63d4365abb40005ffea40ef",
       "version_major": 2,
       "version_minor": 0
      },
      "text/plain": [
       "Loading checkpoint shards:   0%|          | 0/10 [00:00<?, ?it/s]"
      ]
     },
     "metadata": {},
     "output_type": "display_data"
    }
   ],
   "source": [
    "model = AutoModelForCausalLM.from_pretrained(cfg.model_name, cache_dir=cfg.cache_dir, device_map='auto', torch_dtype=torch.float16)\n",
    "tokenizer = AutoTokenizer.from_pretrained(cfg.model_name, cache_dir=cfg.cache_dir)"
   ]
  },
  {
   "cell_type": "code",
   "execution_count": 4,
   "id": "25d656d8-c071-4f1f-9a22-2dcbbb1698a5",
   "metadata": {},
   "outputs": [
    {
     "data": {
      "text/html": [
       "<pre style=\"white-space:pre;overflow-x:auto;line-height:normal;font-family:Menlo,'DejaVu Sans Mono',consolas,'Courier New',monospace\">Processing <span style=\"color: #008080; text-decoration-color: #008080; font-weight: bold\">31</span> examples\n",
       "</pre>\n"
      ],
      "text/plain": [
       "Processing \u001b[1;36m31\u001b[0m examples\n"
      ]
     },
     "metadata": {},
     "output_type": "display_data"
    },
    {
     "data": {
      "text/html": [
       "<pre style=\"white-space:pre;overflow-x:auto;line-height:normal;font-family:Menlo,'DejaVu Sans Mono',consolas,'Courier New',monospace\">Processed <span style=\"color: #008080; text-decoration-color: #008080; font-weight: bold\">31</span> examples\n",
       "</pre>\n"
      ],
      "text/plain": [
       "Processed \u001b[1;36m31\u001b[0m examples\n"
      ]
     },
     "metadata": {},
     "output_type": "display_data"
    },
    {
     "data": {
      "text/html": [
       "<pre style=\"white-space:pre;overflow-x:auto;line-height:normal;font-family:Menlo,'DejaVu Sans Mono',consolas,'Courier New',monospace\">=*=*=*=*=*=*=*=*=*=*=*=*=*=*=*\n",
       "</pre>\n"
      ],
      "text/plain": [
       "=*=*=*=*=*=*=*=*=*=*=*=*=*=*=*\n"
      ]
     },
     "metadata": {},
     "output_type": "display_data"
    },
    {
     "data": {
      "text/html": [
       "<pre style=\"white-space:pre;overflow-x:auto;line-height:normal;font-family:Menlo,'DejaVu Sans Mono',consolas,'Courier New',monospace\"><span style=\"color: #008000; text-decoration-color: #008000; font-weight: bold\">Final dataset size</span>: <span style=\"color: #008080; text-decoration-color: #008080; font-weight: bold\">961</span> examples\n",
       "</pre>\n"
      ],
      "text/plain": [
       "\u001b[1;32mFinal dataset size\u001b[0m: \u001b[1;36m961\u001b[0m examples\n"
      ]
     },
     "metadata": {},
     "output_type": "display_data"
    },
    {
     "data": {
      "text/html": [
       "<pre style=\"white-space:pre;overflow-x:auto;line-height:normal;font-family:Menlo,'DejaVu Sans Mono',consolas,'Courier New',monospace\"><span style=\"color: #800000; text-decoration-color: #800000; font-weight: bold\">Positive example</span>: <span style=\"font-weight: bold\">&lt;</span><span style=\"color: #ff00ff; text-decoration-color: #ff00ff; font-weight: bold\">s</span><span style=\"color: #000000; text-decoration-color: #000000\">&gt;&lt;|start_header_id|&gt;user&lt;|end_header_id|&gt;</span>\n",
       "\n",
       "<span style=\"color: #000000; text-decoration-color: #000000\">I need something to scoop rice with.&lt;|eot_id|</span><span style=\"font-weight: bold\">&gt;</span>So I picked up a metal ladle.\n",
       "</pre>\n"
      ],
      "text/plain": [
       "\u001b[1;31mPositive example\u001b[0m: \u001b[1m<\u001b[0m\u001b[1;95ms\u001b[0m\u001b[39m><|start_header_id|>user<|end_header_id|>\u001b[0m\n",
       "\n",
       "\u001b[39mI need something to scoop rice with.<|eot_id|\u001b[0m\u001b[1m>\u001b[0mSo I picked up a metal ladle.\n"
      ]
     },
     "metadata": {},
     "output_type": "display_data"
    },
    {
     "data": {
      "text/html": [
       "<pre style=\"white-space:pre;overflow-x:auto;line-height:normal;font-family:Menlo,'DejaVu Sans Mono',consolas,'Courier New',monospace\"><span style=\"color: #000080; text-decoration-color: #000080; font-weight: bold\">Negative example</span>: <span style=\"font-weight: bold\">&lt;</span><span style=\"color: #ff00ff; text-decoration-color: #ff00ff; font-weight: bold\">s</span><span style=\"color: #000000; text-decoration-color: #000000\">&gt;&lt;|start_header_id|&gt;user&lt;|end_header_id|&gt;</span>\n",
       "\n",
       "<span style=\"color: #000000; text-decoration-color: #000000\">I need something to scoop rice with.&lt;|eot_id|</span><span style=\"font-weight: bold\">&gt;</span>So I picked up a plastic rice paddle.\n",
       "</pre>\n"
      ],
      "text/plain": [
       "\u001b[1;34mNegative example\u001b[0m: \u001b[1m<\u001b[0m\u001b[1;95ms\u001b[0m\u001b[39m><|start_header_id|>user<|end_header_id|>\u001b[0m\n",
       "\n",
       "\u001b[39mI need something to scoop rice with.<|eot_id|\u001b[0m\u001b[1m>\u001b[0mSo I picked up a plastic rice paddle.\n"
      ]
     },
     "metadata": {},
     "output_type": "display_data"
    },
    {
     "data": {
      "text/html": [
       "<pre style=\"white-space:pre;overflow-x:auto;line-height:normal;font-family:Menlo,'DejaVu Sans Mono',consolas,'Courier New',monospace\">=*=*=*=*=*=*=*=*=*=*=*=*=*=*=*\n",
       "</pre>\n"
      ],
      "text/plain": [
       "=*=*=*=*=*=*=*=*=*=*=*=*=*=*=*\n"
      ]
     },
     "metadata": {},
     "output_type": "display_data"
    },
    {
     "data": {
      "text/html": [
       "<pre style=\"white-space:pre;overflow-x:auto;line-height:normal;font-family:Menlo,'DejaVu Sans Mono',consolas,'Courier New',monospace\">Training steering vector\n",
       "</pre>\n"
      ],
      "text/plain": [
       "Training steering vector\n"
      ]
     },
     "metadata": {},
     "output_type": "display_data"
    },
    {
     "data": {
      "text/html": [
       "<pre style=\"white-space:pre;overflow-x:auto;line-height:normal;font-family:Menlo,'DejaVu Sans Mono',consolas,'Courier New',monospace\">Reading representations for <span style=\"color: #008080; text-decoration-color: #008080; font-weight: bold\">961</span> inputs\n",
       "</pre>\n"
      ],
      "text/plain": [
       "Reading representations for \u001b[1;36m961\u001b[0m inputs\n"
      ]
     },
     "metadata": {},
     "output_type": "display_data"
    },
    {
     "data": {
      "text/html": [
       "<pre style=\"white-space:pre;overflow-x:auto;line-height:normal;font-family:Menlo,'DejaVu Sans Mono',consolas,'Courier New',monospace\"><span style=\"color: #808000; text-decoration-color: #808000\">...</span> accumulating suffix-only hidden states\n",
       "</pre>\n"
      ],
      "text/plain": [
       "\u001b[33m...\u001b[0m accumulating suffix-only hidden states\n"
      ]
     },
     "metadata": {},
     "output_type": "display_data"
    },
    {
     "data": {
      "application/vnd.jupyter.widget-view+json": {
       "model_id": "963dbb53148a40919cc49e1d0bc505fb",
       "version_major": 2,
       "version_minor": 0
      },
      "text/plain": [
       "Output()"
      ]
     },
     "metadata": {},
     "output_type": "display_data"
    },
    {
     "data": {
      "text/html": [
       "<pre style=\"white-space:pre;overflow-x:auto;line-height:normal;font-family:Menlo,'DejaVu Sans Mono',consolas,'Courier New',monospace\"></pre>\n"
      ],
      "text/plain": []
     },
     "metadata": {},
     "output_type": "display_data"
    },
    {
     "data": {
      "application/vnd.jupyter.widget-view+json": {
       "model_id": "ff809da435cc494a84495e9635c03c43",
       "version_major": 2,
       "version_minor": 0
      },
      "text/plain": [
       "Output()"
      ]
     },
     "metadata": {},
     "output_type": "display_data"
    },
    {
     "data": {
      "text/html": [
       "<pre style=\"white-space:pre;overflow-x:auto;line-height:normal;font-family:Menlo,'DejaVu Sans Mono',consolas,'Courier New',monospace\"></pre>\n"
      ],
      "text/plain": []
     },
     "metadata": {},
     "output_type": "display_data"
    }
   ],
   "source": [
    "with open(\"../steer-data/env-coscious.json\") as f:\n",
    "    dset = json.load(f)\n",
    "\n",
    "behavior_dataset = SteeringDataset(\n",
    "    tokenizer=tokenizer,\n",
    "    examples=[(item[\"input\"], item[\"input\"]) for item in dset],\n",
    "    suffixes=list(zip([item[\"compliant_continuation\"] for item in dset], [item[\"non_compliant_continuation\"] for item in dset]))\n",
    ")\n",
    "\n",
    "steer_vector = SteeringVector.train(\n",
    "    model=model,\n",
    "    tokenizer=tokenizer,\n",
    "    steering_dataset=behavior_dataset,\n",
    "    method=\"pca_center\",\n",
    "    accumulate_last_x_tokens=\"suffix-only\"\n",
    ")"
   ]
  },
  {
   "cell_type": "code",
   "execution_count": 5,
   "id": "1659d18e-2444-4b58-9736-83aaefa3cc85",
   "metadata": {},
   "outputs": [
    {
     "data": {
      "text/html": [
       "<pre style=\"white-space:pre;overflow-x:auto;line-height:normal;font-family:Menlo,'DejaVu Sans Mono',consolas,'Courier New',monospace\">Saving SteeringVector to <span style=\"color: #800080; text-decoration-color: #800080\">/workspace/SteerKep/SteerPoser/src/svec/</span><span style=\"color: #ff00ff; text-decoration-color: #ff00ff\">env-conscious-24b.svec</span>\n",
       "</pre>\n"
      ],
      "text/plain": [
       "Saving SteeringVector to \u001b[35m/workspace/SteerKep/SteerPoser/src/svec/\u001b[0m\u001b[95menv-conscious-24b.svec\u001b[0m\n"
      ]
     },
     "metadata": {},
     "output_type": "display_data"
    },
    {
     "data": {
      "text/html": [
       "<pre style=\"white-space:pre;overflow-x:auto;line-height:normal;font-family:Menlo,'DejaVu Sans Mono',consolas,'Courier New',monospace\">SteeringVector saved successfully\n",
       "</pre>\n"
      ],
      "text/plain": [
       "SteeringVector saved successfully\n"
      ]
     },
     "metadata": {},
     "output_type": "display_data"
    }
   ],
   "source": [
    "steer_vector.save('/workspace/SteerKep/SteerPoser/src/svec/env-conscious-24b')"
   ]
  },
  {
   "cell_type": "code",
   "execution_count": 14,
   "id": "e7190a05-4824-4915-8fc1-1cd583e433b9",
   "metadata": {},
   "outputs": [
    {
     "data": {
      "text/html": [
       "<pre style=\"white-space:pre;overflow-x:auto;line-height:normal;font-family:Menlo,'DejaVu Sans Mono',consolas,'Courier New',monospace\">Loading SteeringVector from <span style=\"color: #800080; text-decoration-color: #800080\">/workspace/SteerKep/SteerPoser/src/svec/</span><span style=\"color: #ff00ff; text-decoration-color: #ff00ff\">junk-healthy-24b.svec</span>\n",
       "</pre>\n"
      ],
      "text/plain": [
       "Loading SteeringVector from \u001b[35m/workspace/SteerKep/SteerPoser/src/svec/\u001b[0m\u001b[95mjunk-healthy-24b.svec\u001b[0m\n"
      ]
     },
     "metadata": {},
     "output_type": "display_data"
    },
    {
     "data": {
      "text/html": [
       "<pre style=\"white-space:pre;overflow-x:auto;line-height:normal;font-family:Menlo,'DejaVu Sans Mono',consolas,'Courier New',monospace\">Loaded directions for layers: <span style=\"font-weight: bold\">[</span><span style=\"color: #008080; text-decoration-color: #008080; font-weight: bold\">0</span>, <span style=\"color: #008080; text-decoration-color: #008080; font-weight: bold\">1</span>, <span style=\"color: #008080; text-decoration-color: #008080; font-weight: bold\">2</span>, <span style=\"color: #008080; text-decoration-color: #008080; font-weight: bold\">3</span>, <span style=\"color: #008080; text-decoration-color: #008080; font-weight: bold\">4</span>, <span style=\"color: #008080; text-decoration-color: #008080; font-weight: bold\">5</span>, <span style=\"color: #008080; text-decoration-color: #008080; font-weight: bold\">6</span>, <span style=\"color: #008080; text-decoration-color: #008080; font-weight: bold\">7</span>, <span style=\"color: #008080; text-decoration-color: #008080; font-weight: bold\">8</span>, <span style=\"color: #008080; text-decoration-color: #008080; font-weight: bold\">9</span>, <span style=\"color: #008080; text-decoration-color: #008080; font-weight: bold\">10</span>, <span style=\"color: #008080; text-decoration-color: #008080; font-weight: bold\">11</span>, <span style=\"color: #008080; text-decoration-color: #008080; font-weight: bold\">12</span>, <span style=\"color: #008080; text-decoration-color: #008080; font-weight: bold\">13</span>, <span style=\"color: #008080; text-decoration-color: #008080; font-weight: bold\">14</span>, <span style=\"color: #008080; text-decoration-color: #008080; font-weight: bold\">15</span>, <span style=\"color: #008080; text-decoration-color: #008080; font-weight: bold\">16</span>, <span style=\"color: #008080; text-decoration-color: #008080; font-weight: bold\">17</span>, <span style=\"color: #008080; text-decoration-color: #008080; font-weight: bold\">18</span>, <span style=\"color: #008080; text-decoration-color: #008080; font-weight: bold\">19</span>, <span style=\"color: #008080; text-decoration-color: #008080; font-weight: bold\">20</span>, <span style=\"color: #008080; text-decoration-color: #008080; font-weight: bold\">21</span>, <span style=\"color: #008080; text-decoration-color: #008080; font-weight: bold\">22</span>, \n",
       "<span style=\"color: #008080; text-decoration-color: #008080; font-weight: bold\">23</span>, <span style=\"color: #008080; text-decoration-color: #008080; font-weight: bold\">24</span>, <span style=\"color: #008080; text-decoration-color: #008080; font-weight: bold\">25</span>, <span style=\"color: #008080; text-decoration-color: #008080; font-weight: bold\">26</span>, <span style=\"color: #008080; text-decoration-color: #008080; font-weight: bold\">27</span>, <span style=\"color: #008080; text-decoration-color: #008080; font-weight: bold\">28</span>, <span style=\"color: #008080; text-decoration-color: #008080; font-weight: bold\">29</span>, <span style=\"color: #008080; text-decoration-color: #008080; font-weight: bold\">30</span>, <span style=\"color: #008080; text-decoration-color: #008080; font-weight: bold\">31</span>, <span style=\"color: #008080; text-decoration-color: #008080; font-weight: bold\">32</span>, <span style=\"color: #008080; text-decoration-color: #008080; font-weight: bold\">33</span>, <span style=\"color: #008080; text-decoration-color: #008080; font-weight: bold\">34</span>, <span style=\"color: #008080; text-decoration-color: #008080; font-weight: bold\">35</span>, <span style=\"color: #008080; text-decoration-color: #008080; font-weight: bold\">36</span>, <span style=\"color: #008080; text-decoration-color: #008080; font-weight: bold\">37</span>, <span style=\"color: #008080; text-decoration-color: #008080; font-weight: bold\">38</span>, <span style=\"color: #008080; text-decoration-color: #008080; font-weight: bold\">39</span><span style=\"font-weight: bold\">]</span>\n",
       "</pre>\n"
      ],
      "text/plain": [
       "Loaded directions for layers: \u001b[1m[\u001b[0m\u001b[1;36m0\u001b[0m, \u001b[1;36m1\u001b[0m, \u001b[1;36m2\u001b[0m, \u001b[1;36m3\u001b[0m, \u001b[1;36m4\u001b[0m, \u001b[1;36m5\u001b[0m, \u001b[1;36m6\u001b[0m, \u001b[1;36m7\u001b[0m, \u001b[1;36m8\u001b[0m, \u001b[1;36m9\u001b[0m, \u001b[1;36m10\u001b[0m, \u001b[1;36m11\u001b[0m, \u001b[1;36m12\u001b[0m, \u001b[1;36m13\u001b[0m, \u001b[1;36m14\u001b[0m, \u001b[1;36m15\u001b[0m, \u001b[1;36m16\u001b[0m, \u001b[1;36m17\u001b[0m, \u001b[1;36m18\u001b[0m, \u001b[1;36m19\u001b[0m, \u001b[1;36m20\u001b[0m, \u001b[1;36m21\u001b[0m, \u001b[1;36m22\u001b[0m, \n",
       "\u001b[1;36m23\u001b[0m, \u001b[1;36m24\u001b[0m, \u001b[1;36m25\u001b[0m, \u001b[1;36m26\u001b[0m, \u001b[1;36m27\u001b[0m, \u001b[1;36m28\u001b[0m, \u001b[1;36m29\u001b[0m, \u001b[1;36m30\u001b[0m, \u001b[1;36m31\u001b[0m, \u001b[1;36m32\u001b[0m, \u001b[1;36m33\u001b[0m, \u001b[1;36m34\u001b[0m, \u001b[1;36m35\u001b[0m, \u001b[1;36m36\u001b[0m, \u001b[1;36m37\u001b[0m, \u001b[1;36m38\u001b[0m, \u001b[1;36m39\u001b[0m\u001b[1m]\u001b[0m\n"
      ]
     },
     "metadata": {},
     "output_type": "display_data"
    },
    {
     "data": {
      "text/html": [
       "<pre style=\"white-space:pre;overflow-x:auto;line-height:normal;font-family:Menlo,'DejaVu Sans Mono',consolas,'Courier New',monospace\">Shape of first direction vector: <span style=\"font-weight: bold\">(</span><span style=\"color: #008080; text-decoration-color: #008080; font-weight: bold\">5120</span>,<span style=\"font-weight: bold\">)</span>\n",
       "</pre>\n"
      ],
      "text/plain": [
       "Shape of first direction vector: \u001b[1m(\u001b[0m\u001b[1;36m5120\u001b[0m,\u001b[1m)\u001b[0m\n"
      ]
     },
     "metadata": {},
     "output_type": "display_data"
    },
    {
     "data": {
      "text/plain": [
       "SteeringVector(model_type='mistral', directions={0: array([-0.01361782, -0.01313442, -0.02077398, ..., -0.01505991,\n",
       "       -0.01563435,  0.02308362]), 1: array([-0.00951747, -0.01166029, -0.01998172, ..., -0.00382837,\n",
       "       -0.01391382,  0.02363173]), 2: array([-0.0017235 , -0.01232683, -0.01513114, ...,  0.00425921,\n",
       "       -0.00477926,  0.03100454]), 3: array([ 0.00244407, -0.03092561, -0.012096  , ...,  0.01440329,\n",
       "       -0.00023995,  0.04096101]), 4: array([ 0.01963979, -0.02387932, -0.00465779, ...,  0.00169062,\n",
       "       -0.00732097,  0.03835894]), 5: array([ 0.03947186, -0.0171915 , -0.00906819, ...,  0.00937378,\n",
       "       -0.01085423,  0.03344895]), 6: array([ 0.04322581, -0.00968346, -0.0122202 , ...,  0.00782553,\n",
       "       -0.01974739,  0.02589777]), 7: array([ 0.02943854, -0.00321238, -0.02182378, ..., -0.00652945,\n",
       "       -0.01555826,  0.02704435]), 8: array([ 0.01858285,  0.00395735, -0.02366393, ..., -0.00238775,\n",
       "       -0.02025632,  0.02438832]), 9: array([ 0.02348114,  0.00576055, -0.01817165, ..., -0.00165264,\n",
       "       -0.01853029,  0.03025472]), 10: array([ 0.02049013,  0.00333496, -0.02172026, ..., -0.00529132,\n",
       "       -0.01730156,  0.02108994]), 11: array([ 0.0147345 , -0.00640417, -0.01756975, ..., -0.00854022,\n",
       "       -0.01241811,  0.01954579]), 12: array([ 0.01291995, -0.00223997, -0.01430306, ...,  0.00131184,\n",
       "       -0.00395338,  0.02360748]), 13: array([ 0.0178157 ,  0.0008074 , -0.01753403, ...,  0.00571481,\n",
       "       -0.00982552,  0.01623151]), 14: array([ 0.0199741 , -0.00230857, -0.01342981, ...,  0.0028207 ,\n",
       "       -0.01401599,  0.00491573]), 15: array([ 0.01925397, -0.00417196, -0.01146981, ..., -0.00041514,\n",
       "       -0.01694358,  0.00595903]), 16: array([ 0.03196235, -0.00699316, -0.00500903, ...,  0.00673317,\n",
       "       -0.00708809,  0.01044254]), 17: array([ 0.02029729, -0.01136751,  0.00139196, ...,  0.0050644 ,\n",
       "       -0.00476441,  0.01348682]), 18: array([ 0.0215154 , -0.00665812, -0.00408913, ..., -0.00017222,\n",
       "       -0.00808528,  0.0185065 ]), 19: array([ 0.01079228, -0.00300366, -0.01286209, ..., -0.00564634,\n",
       "       -0.01189091,  0.02286888]), 20: array([ 0.00897107, -0.00915782, -0.00666982, ..., -0.01055029,\n",
       "       -0.01395772,  0.01881012]), 21: array([ 0.00630987, -0.00776307, -0.01014304, ..., -0.01295903,\n",
       "       -0.00853085,  0.02019879]), 22: array([ 0.01263589, -0.00504298, -0.00824745, ..., -0.00810039,\n",
       "       -0.00891191,  0.02569893]), 23: array([ 0.00986312, -0.00540264, -0.00249531, ..., -0.00781622,\n",
       "       -0.00974709,  0.02990463]), 24: array([ 0.00315834, -0.00317901, -0.00094834, ..., -0.00729051,\n",
       "       -0.02007098,  0.02293222]), 25: array([-0.00130161, -0.00510335, -0.00768401, ..., -0.01366056,\n",
       "       -0.02784204,  0.02328444]), 26: array([-0.00402568,  0.00267019, -0.01003755, ..., -0.01731526,\n",
       "       -0.02417577,  0.01959709]), 27: array([-0.00392817,  0.00118464, -0.01114977, ..., -0.01079686,\n",
       "       -0.02207582,  0.0200726 ]), 28: array([-0.00390213,  0.00620369, -0.01327241, ..., -0.01165077,\n",
       "       -0.02000664,  0.01888675]), 29: array([ 0.00072325, -0.00069246, -0.01439575, ..., -0.01525243,\n",
       "       -0.01222858,  0.01716201]), 30: array([ 0.00632433, -0.00040432, -0.01212875, ..., -0.01182909,\n",
       "       -0.01113836,  0.02098812]), 31: array([ 0.00377993, -0.0019049 , -0.01567367, ..., -0.01662906,\n",
       "       -0.01410228,  0.01786344]), 32: array([ 0.00311263, -0.00053771, -0.01542472, ..., -0.01555631,\n",
       "       -0.0155048 ,  0.01503961]), 33: array([-0.00234829, -0.00363558, -0.01269372, ..., -0.01122061,\n",
       "       -0.01825154,  0.01304208]), 34: array([-0.00550838, -0.0030677 , -0.01122808, ..., -0.00877304,\n",
       "       -0.01340727,  0.008165  ]), 35: array([-0.00565963, -0.00498794, -0.01165487, ..., -0.0050798 ,\n",
       "       -0.00861048,  0.00429291]), 36: array([-0.0014946 , -0.00472698, -0.01494061, ..., -0.00610649,\n",
       "       -0.0130082 ,  0.00957439]), 37: array([-0.00099912, -0.00668512, -0.00936672, ...,  0.00073759,\n",
       "       -0.0162241 ,  0.00832628]), 38: array([-0.00261375, -0.00893407, -0.01451501, ...,  0.00395297,\n",
       "       -0.01204044,  0.00830561]), 39: array([ 0.00015819, -0.00774833, -0.00568279, ...,  0.00877117,\n",
       "       -0.00409649,  0.00335082])}, explained_variances={0: 0.2604162154092806, 1: 0.16740638199518498, 2: 0.15092692587617934, 3: 0.16316368309785115, 4: 0.17853847036666334, 5: 0.18826235385655526, 6: 0.1951289972663534, 7: 0.21434792951063128, 8: 0.2511881256819182, 9: 0.25499924419337033, 10: 0.25544228547411457, 11: 0.255267008662572, 12: 0.2634618701129819, 13: 0.26798445841362206, 14: 0.2637093888562504, 15: 0.2640911445742275, 16: 0.27291183654215784, 17: 0.27284433779430967, 18: 0.27329475812997817, 19: 0.2683435972219404, 20: 0.2610871381050419, 21: 0.26120331061998786, 22: 0.2565128479721708, 23: 0.2534948505059837, 24: 0.2506899239476856, 25: 0.26427969982805655, 26: 0.2647732224435091, 27: 0.2626676070886834, 28: 0.26275412472374865, 29: 0.26920187809846474, 30: 0.26335769053691876, 31: 0.2618811891450833, 32: 0.2575166311339449, 33: 0.2515880683240063, 34: 0.24649585949592254, 35: 0.2420784919278716, 36: 0.2371754376290529, 37: 0.23439612152734035, 38: 0.23896695002384327, 39: 0.2511173604134094})"
      ]
     },
     "execution_count": 14,
     "metadata": {},
     "output_type": "execute_result"
    }
   ],
   "source": [
    "steer_vector.load('/workspace/SteerKep/SteerPoser/src/svec/junk-healthy-24b')"
   ]
  },
  {
   "cell_type": "code",
   "execution_count": 15,
   "id": "c39b03e4-0217-4996-ac4a-b45190b8f1f7",
   "metadata": {},
   "outputs": [
    {
     "name": "stdout",
     "output_type": "stream",
     "text": [
      "MistralForCausalLM(\n",
      "  (model): MistralModel(\n",
      "    (embed_tokens): Embedding(131078, 5120)\n",
      "    (layers): ModuleList(\n",
      "      (0-39): 40 x LeashLayer(\n",
      "        (layer): MistralDecoderLayer(\n",
      "          (self_attn): MistralAttention(\n",
      "            (q_proj): Linear(in_features=5120, out_features=4096, bias=False)\n",
      "            (k_proj): Linear(in_features=5120, out_features=1024, bias=False)\n",
      "            (v_proj): Linear(in_features=5120, out_features=1024, bias=False)\n",
      "            (o_proj): Linear(in_features=4096, out_features=5120, bias=False)\n",
      "          )\n",
      "          (mlp): MistralMLP(\n",
      "            (gate_proj): Linear(in_features=5120, out_features=32768, bias=False)\n",
      "            (up_proj): Linear(in_features=5120, out_features=32768, bias=False)\n",
      "            (down_proj): Linear(in_features=32768, out_features=5120, bias=False)\n",
      "            (act_fn): SiLU()\n",
      "          )\n",
      "          (input_layernorm): MistralRMSNorm((5120,), eps=1e-05)\n",
      "          (post_attention_layernorm): MistralRMSNorm((5120,), eps=1e-05)\n",
      "        )\n",
      "      )\n",
      "    )\n",
      "    (norm): MistralRMSNorm((5120,), eps=1e-05)\n",
      "    (rotary_emb): MistralRotaryEmbedding()\n",
      "  )\n",
      "  (lm_head): Linear(in_features=5120, out_features=131078, bias=False)\n",
      ")\n"
     ]
    }
   ],
   "source": [
    "print(model)"
   ]
  },
  {
   "cell_type": "code",
   "execution_count": 25,
   "id": "85b67c3f-a158-49fb-b119-b164900bdd0a",
   "metadata": {},
   "outputs": [
    {
     "data": {
      "text/html": [
       "<pre style=\"white-space:pre;overflow-x:auto;line-height:normal;font-family:Menlo,'DejaVu Sans Mono',consolas,'Courier New',monospace\"><span style=\"color: #808000; text-decoration-color: #808000\">...</span><span style=\"color: #800080; text-decoration-color: #800080\"> The target model type is </span><span style=\"color: #008080; text-decoration-color: #008080\">mistral</span><span style=\"color: #800080; text-decoration-color: #800080\">.</span>\n",
       "</pre>\n"
      ],
      "text/plain": [
       "\u001b[33m...\u001b[0m\u001b[35m The target model type is \u001b[0m\u001b[36mmistral\u001b[0m\u001b[35m.\u001b[0m\n"
      ]
     },
     "metadata": {},
     "output_type": "display_data"
    },
    {
     "data": {
      "text/html": [
       "<pre style=\"white-space:pre;overflow-x:auto;line-height:normal;font-family:Menlo,'DejaVu Sans Mono',consolas,'Courier New',monospace\"><span style=\"font-weight: bold\">Steering</span><span style=\"color: #808000; text-decoration-color: #808000; font-weight: bold\">...</span>\n",
       "</pre>\n"
      ],
      "text/plain": [
       "\u001b[1mSteering\u001b[0m\u001b[1;33m...\u001b[0m\n"
      ]
     },
     "metadata": {},
     "output_type": "display_data"
    },
    {
     "name": "stderr",
     "output_type": "stream",
     "text": [
      "Setting `pad_token_id` to `eos_token_id`:20 for open-end generation.\n"
     ]
    },
    {
     "name": "stdout",
     "output_type": "stream",
     "text": [
      "['It’s a bit hard for me to know the exact food items available and that Aakash might like, so I’ll give a few general recommendations. For snacks, a cheese sandwich, piece of fruit, or pack of crackers could be good. For lunch or dinner, a burger, pizza, or salad with protein would be filling and tasty. If he’s in the mood for something sweet, some cookies or chocolate would be good. I’d encourage him pack along a bottle of water or cup of milk to drink. Let me know if you have any other food items you’d like me bag up and bring out for him']\n"
     ]
    }
   ],
   "source": [
    "# test if the model works with this new steering vector\n",
    "from activation_steering import MalleableModel\n",
    "malleable_model = MalleableModel(model=model, tokenizer=tokenizer)\n",
    "\n",
    "malleable_model.steer(\n",
    "    behavior_vector=steer_vector,\n",
    "    behavior_layer_ids= [29, 30, 31, 32, 33, 34, 35, 36, 37, 38, 39],\n",
    "    behavior_vector_strength=-4,\n",
    ")\n",
    "\n",
    "# test_prompts = [\n",
    "#   \"She reached into the drawer for something to eat her lunch with and picked out a \",\n",
    "#   \"At the daycare, utensils were handed out for snack time. Most children were given a \",\n",
    "#   \"During turbulence, the passenger tried to eat their meal as safely as possible and they used \",\n",
    "#   \"The kitchen staff replaced all utensils after the incident involving a fork, they only purchased \"\n",
    "# ]\n",
    "\n",
    "test_prompts = [\n",
    "  \"Aakash is very hungry, what would you recommend he tries to eat?\"\n",
    "]\n",
    "\n",
    "steered_responses = malleable_model.respond_batch_sequential(\n",
    "    prompts=test_prompts,\n",
    "    settings={\"max_new_tokens\": 128}\n",
    ")\n",
    "print(steered_responses)"
   ]
  },
  {
   "cell_type": "code",
   "execution_count": 22,
   "id": "c392b818-b242-4e68-acde-6ea67fe35d57",
   "metadata": {},
   "outputs": [
    {
     "name": "stdout",
     "output_type": "stream",
     "text": [
      "If Aakash is very hungry and looking for a meal recommendation, I would suggest a well-balanced meal that will provide him with the energy and nutrients needed to keep him going throughout the day. Here are a few options:\n",
      "\n",
      "1. Sandwich or wrap: A hearty sandwich or wrap filled with protein, vegetables, and whole-grains can be a filling and nutritious meal option. Examples include turkey and avocado wrap, grilled chicken sandwich with lettuce and tomatoes, or a veggie-filled pita sandwich.\n",
      "\n",
      "2. Salad bowl: A salad bowl with a variety of protein and vegetables could be a great\n"
     ]
    }
   ],
   "source": [
    "print(steered_responses[0])"
   ]
  },
  {
   "cell_type": "code",
   "execution_count": null,
   "id": "b6a4501d-3fbb-43ae-af95-f23d3d5e1059",
   "metadata": {},
   "outputs": [],
   "source": []
  }
 ],
 "metadata": {
  "kernelspec": {
   "display_name": "Python (Base)",
   "language": "python",
   "name": "base-env"
  },
  "language_info": {
   "codemirror_mode": {
    "name": "ipython",
    "version": 3
   },
   "file_extension": ".py",
   "mimetype": "text/x-python",
   "name": "python",
   "nbconvert_exporter": "python",
   "pygments_lexer": "ipython3",
   "version": "3.12.9"
  }
 },
 "nbformat": 4,
 "nbformat_minor": 5
}
