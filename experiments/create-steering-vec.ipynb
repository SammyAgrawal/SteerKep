{
 "cells": [
  {
   "cell_type": "code",
   "execution_count": 1,
   "id": "8cb3c95a-5de6-4b71-8188-fa84eeb5e2f9",
   "metadata": {},
   "outputs": [
    {
     "data": {
      "text/plain": [
       "True"
      ]
     },
     "execution_count": 1,
     "metadata": {},
     "output_type": "execute_result"
    }
   ],
   "source": [
    "import json\n",
    "import torch\n",
    "import sys\n",
    "sys.path.append('/workspace/SteerKep/activation-steering')\n",
    "sys.path.append(\"/workspace/SteerKep/SteerPoser/src\")\n",
    "sys.path.append(\"/workspace/SteerKep/steer-data\")\n",
    "torch.cuda.is_available()"
   ]
  },
  {
   "cell_type": "code",
   "execution_count": 2,
   "id": "decbb12d-7535-4f95-a990-b243a5d21d51",
   "metadata": {},
   "outputs": [],
   "source": [
    "from transformers import AutoModelForCausalLM, AutoTokenizer\n",
    "from activation_steering import SteeringDataset, MalleableModel, SteeringVector\n",
    "from arguments import get_config\n",
    "cfg = get_config(config_path='/workspace/SteerKep/SteerPoser/src/configs/steering.yaml')"
   ]
  },
  {
   "cell_type": "code",
   "execution_count": 3,
   "id": "73cdaea2-4742-4b23-9bb9-9010e3eab2af",
   "metadata": {},
   "outputs": [
    {
     "data": {
      "application/vnd.jupyter.widget-view+json": {
       "model_id": "e4b9806af33843d185f7db7b6acb0821",
       "version_major": 2,
       "version_minor": 0
      },
      "text/plain": [
       "Loading checkpoint shards:   0%|          | 0/4 [00:00<?, ?it/s]"
      ]
     },
     "metadata": {},
     "output_type": "display_data"
    }
   ],
   "source": [
    "model = AutoModelForCausalLM.from_pretrained(cfg.model_name, cache_dir=cfg.cache_dir, local_files_only=True, device_map='auto', torch_dtype=torch.float16)\n",
    "tokenizer = AutoTokenizer.from_pretrained(cfg.model_name, cache_dir=cfg.cache_dir, local_files_only=True)"
   ]
  },
  {
   "cell_type": "code",
   "execution_count": 4,
   "id": "25d656d8-c071-4f1f-9a22-2dcbbb1698a5",
   "metadata": {},
   "outputs": [
    {
     "data": {
      "text/html": [
       "<pre style=\"white-space:pre;overflow-x:auto;line-height:normal;font-family:Menlo,'DejaVu Sans Mono',consolas,'Courier New',monospace\">Processing <span style=\"color: #008080; text-decoration-color: #008080; font-weight: bold\">27</span> examples\n",
       "</pre>\n"
      ],
      "text/plain": [
       "Processing \u001b[1;36m27\u001b[0m examples\n"
      ]
     },
     "metadata": {},
     "output_type": "display_data"
    },
    {
     "data": {
      "text/html": [
       "<pre style=\"white-space:pre;overflow-x:auto;line-height:normal;font-family:Menlo,'DejaVu Sans Mono',consolas,'Courier New',monospace\">Processed <span style=\"color: #008080; text-decoration-color: #008080; font-weight: bold\">27</span> examples\n",
       "</pre>\n"
      ],
      "text/plain": [
       "Processed \u001b[1;36m27\u001b[0m examples\n"
      ]
     },
     "metadata": {},
     "output_type": "display_data"
    },
    {
     "data": {
      "text/html": [
       "<pre style=\"white-space:pre;overflow-x:auto;line-height:normal;font-family:Menlo,'DejaVu Sans Mono',consolas,'Courier New',monospace\">=*=*=*=*=*=*=*=*=*=*=*=*=*=*=*\n",
       "</pre>\n"
      ],
      "text/plain": [
       "=*=*=*=*=*=*=*=*=*=*=*=*=*=*=*\n"
      ]
     },
     "metadata": {},
     "output_type": "display_data"
    },
    {
     "data": {
      "text/html": [
       "<pre style=\"white-space:pre;overflow-x:auto;line-height:normal;font-family:Menlo,'DejaVu Sans Mono',consolas,'Courier New',monospace\"><span style=\"color: #008000; text-decoration-color: #008000; font-weight: bold\">Final dataset size</span>: <span style=\"color: #008080; text-decoration-color: #008080; font-weight: bold\">729</span> examples\n",
       "</pre>\n"
      ],
      "text/plain": [
       "\u001b[1;32mFinal dataset size\u001b[0m: \u001b[1;36m729\u001b[0m examples\n"
      ]
     },
     "metadata": {},
     "output_type": "display_data"
    },
    {
     "data": {
      "text/html": [
       "<pre style=\"white-space:pre;overflow-x:auto;line-height:normal;font-family:Menlo,'DejaVu Sans Mono',consolas,'Courier New',monospace\"><span style=\"color: #800000; text-decoration-color: #800000; font-weight: bold\">Positive example</span>: <span style=\"font-weight: bold\">&lt;</span><span style=\"color: #ff00ff; text-decoration-color: #ff00ff; font-weight: bold\">|begin_of_text|</span><span style=\"color: #000000; text-decoration-color: #000000\">&gt;&lt;|im_start|&gt;user</span>\n",
       "<span style=\"color: #000000; text-decoration-color: #000000\">After a long day at work, she opened the fridge and reached for&lt;|im_end|</span><span style=\"font-weight: bold\">&gt;</span>\n",
       "a bowl of chopped fruit and Greek yogurt\n",
       "</pre>\n"
      ],
      "text/plain": [
       "\u001b[1;31mPositive example\u001b[0m: \u001b[1m<\u001b[0m\u001b[1;95m|begin_of_text|\u001b[0m\u001b[39m><|im_start|>user\u001b[0m\n",
       "\u001b[39mAfter a long day at work, she opened the fridge and reached for<|im_end|\u001b[0m\u001b[1m>\u001b[0m\n",
       "a bowl of chopped fruit and Greek yogurt\n"
      ]
     },
     "metadata": {},
     "output_type": "display_data"
    },
    {
     "data": {
      "text/html": [
       "<pre style=\"white-space:pre;overflow-x:auto;line-height:normal;font-family:Menlo,'DejaVu Sans Mono',consolas,'Courier New',monospace\"><span style=\"color: #000080; text-decoration-color: #000080; font-weight: bold\">Negative example</span>: <span style=\"font-weight: bold\">&lt;</span><span style=\"color: #ff00ff; text-decoration-color: #ff00ff; font-weight: bold\">|begin_of_text|</span><span style=\"color: #000000; text-decoration-color: #000000\">&gt;&lt;|im_start|&gt;user</span>\n",
       "<span style=\"color: #000000; text-decoration-color: #000000\">After a long day at work, she opened the fridge and reached for&lt;|im_end|</span><span style=\"font-weight: bold\">&gt;</span>\n",
       "a leftover cheeseburger and fries\n",
       "</pre>\n"
      ],
      "text/plain": [
       "\u001b[1;34mNegative example\u001b[0m: \u001b[1m<\u001b[0m\u001b[1;95m|begin_of_text|\u001b[0m\u001b[39m><|im_start|>user\u001b[0m\n",
       "\u001b[39mAfter a long day at work, she opened the fridge and reached for<|im_end|\u001b[0m\u001b[1m>\u001b[0m\n",
       "a leftover cheeseburger and fries\n"
      ]
     },
     "metadata": {},
     "output_type": "display_data"
    },
    {
     "data": {
      "text/html": [
       "<pre style=\"white-space:pre;overflow-x:auto;line-height:normal;font-family:Menlo,'DejaVu Sans Mono',consolas,'Courier New',monospace\">=*=*=*=*=*=*=*=*=*=*=*=*=*=*=*\n",
       "</pre>\n"
      ],
      "text/plain": [
       "=*=*=*=*=*=*=*=*=*=*=*=*=*=*=*\n"
      ]
     },
     "metadata": {},
     "output_type": "display_data"
    },
    {
     "data": {
      "text/html": [
       "<pre style=\"white-space:pre;overflow-x:auto;line-height:normal;font-family:Menlo,'DejaVu Sans Mono',consolas,'Courier New',monospace\">Training steering vector\n",
       "</pre>\n"
      ],
      "text/plain": [
       "Training steering vector\n"
      ]
     },
     "metadata": {},
     "output_type": "display_data"
    },
    {
     "data": {
      "text/html": [
       "<pre style=\"white-space:pre;overflow-x:auto;line-height:normal;font-family:Menlo,'DejaVu Sans Mono',consolas,'Courier New',monospace\">Reading representations for <span style=\"color: #008080; text-decoration-color: #008080; font-weight: bold\">729</span> inputs\n",
       "</pre>\n"
      ],
      "text/plain": [
       "Reading representations for \u001b[1;36m729\u001b[0m inputs\n"
      ]
     },
     "metadata": {},
     "output_type": "display_data"
    },
    {
     "data": {
      "text/html": [
       "<pre style=\"white-space:pre;overflow-x:auto;line-height:normal;font-family:Menlo,'DejaVu Sans Mono',consolas,'Courier New',monospace\"><span style=\"color: #808000; text-decoration-color: #808000\">...</span> accumulating suffix-only hidden states\n",
       "</pre>\n"
      ],
      "text/plain": [
       "\u001b[33m...\u001b[0m accumulating suffix-only hidden states\n"
      ]
     },
     "metadata": {},
     "output_type": "display_data"
    },
    {
     "data": {
      "application/vnd.jupyter.widget-view+json": {
       "model_id": "931a455d3e9b40f7b6c9ddfd9d172b15",
       "version_major": 2,
       "version_minor": 0
      },
      "text/plain": [
       "Output()"
      ]
     },
     "metadata": {},
     "output_type": "display_data"
    },
    {
     "data": {
      "text/html": [
       "<pre style=\"white-space:pre;overflow-x:auto;line-height:normal;font-family:Menlo,'DejaVu Sans Mono',consolas,'Courier New',monospace\"></pre>\n"
      ],
      "text/plain": []
     },
     "metadata": {},
     "output_type": "display_data"
    },
    {
     "data": {
      "application/vnd.jupyter.widget-view+json": {
       "model_id": "46e52bfd23a84f0681f103db6815f277",
       "version_major": 2,
       "version_minor": 0
      },
      "text/plain": [
       "Output()"
      ]
     },
     "metadata": {},
     "output_type": "display_data"
    },
    {
     "data": {
      "text/html": [
       "<pre style=\"white-space:pre;overflow-x:auto;line-height:normal;font-family:Menlo,'DejaVu Sans Mono',consolas,'Courier New',monospace\"></pre>\n"
      ],
      "text/plain": []
     },
     "metadata": {},
     "output_type": "display_data"
    }
   ],
   "source": [
    "with open(\"../steer-data/junk-healthy.json\") as f:\n",
    "    dset = json.load(f)\n",
    "\n",
    "behavior_dataset = SteeringDataset(\n",
    "    tokenizer=tokenizer,\n",
    "    examples=[(item[\"input\"], item[\"input\"]) for item in dset],\n",
    "    suffixes=list(zip([item[\"compliant_continuation\"] for item in dset], [item[\"non_compliant_continuation\"] for item in dset]))\n",
    ")\n",
    "\n",
    "steer_vector = SteeringVector.train(\n",
    "    model=model,\n",
    "    tokenizer=tokenizer,\n",
    "    steering_dataset=behavior_dataset,\n",
    "    method=\"pca_center\",\n",
    "    accumulate_last_x_tokens=\"suffix-only\"\n",
    ")"
   ]
  },
  {
   "cell_type": "code",
   "execution_count": 5,
   "id": "1659d18e-2444-4b58-9736-83aaefa3cc85",
   "metadata": {},
   "outputs": [
    {
     "data": {
      "text/html": [
       "<pre style=\"white-space:pre;overflow-x:auto;line-height:normal;font-family:Menlo,'DejaVu Sans Mono',consolas,'Courier New',monospace\">Saving SteeringVector to <span style=\"color: #800080; text-decoration-color: #800080\">/workspace/SteerKep/SteerPoser/src/svec/</span><span style=\"color: #ff00ff; text-decoration-color: #ff00ff\">junk-healthy.svec</span>\n",
       "</pre>\n"
      ],
      "text/plain": [
       "Saving SteeringVector to \u001b[35m/workspace/SteerKep/SteerPoser/src/svec/\u001b[0m\u001b[95mjunk-healthy.svec\u001b[0m\n"
      ]
     },
     "metadata": {},
     "output_type": "display_data"
    },
    {
     "data": {
      "text/html": [
       "<pre style=\"white-space:pre;overflow-x:auto;line-height:normal;font-family:Menlo,'DejaVu Sans Mono',consolas,'Courier New',monospace\">SteeringVector saved successfully\n",
       "</pre>\n"
      ],
      "text/plain": [
       "SteeringVector saved successfully\n"
      ]
     },
     "metadata": {},
     "output_type": "display_data"
    }
   ],
   "source": [
    "steer_vector.save('/workspace/SteerKep/SteerPoser/src/svec/junk-healthy')"
   ]
  },
  {
   "cell_type": "code",
   "execution_count": 6,
   "id": "c39b03e4-0217-4996-ac4a-b45190b8f1f7",
   "metadata": {},
   "outputs": [
    {
     "name": "stdout",
     "output_type": "stream",
     "text": [
      "LlamaForCausalLM(\n",
      "  (model): LlamaModel(\n",
      "    (embed_tokens): Embedding(128288, 4096)\n",
      "    (layers): ModuleList(\n",
      "      (0-31): 32 x LlamaDecoderLayer(\n",
      "        (self_attn): LlamaAttention(\n",
      "          (q_proj): Linear(in_features=4096, out_features=4096, bias=False)\n",
      "          (k_proj): Linear(in_features=4096, out_features=1024, bias=False)\n",
      "          (v_proj): Linear(in_features=4096, out_features=1024, bias=False)\n",
      "          (o_proj): Linear(in_features=4096, out_features=4096, bias=False)\n",
      "        )\n",
      "        (mlp): LlamaMLP(\n",
      "          (gate_proj): Linear(in_features=4096, out_features=14336, bias=False)\n",
      "          (up_proj): Linear(in_features=4096, out_features=14336, bias=False)\n",
      "          (down_proj): Linear(in_features=14336, out_features=4096, bias=False)\n",
      "          (act_fn): SiLU()\n",
      "        )\n",
      "        (input_layernorm): LlamaRMSNorm((4096,), eps=1e-05)\n",
      "        (post_attention_layernorm): LlamaRMSNorm((4096,), eps=1e-05)\n",
      "      )\n",
      "    )\n",
      "    (norm): LlamaRMSNorm((4096,), eps=1e-05)\n",
      "    (rotary_emb): LlamaRotaryEmbedding()\n",
      "  )\n",
      "  (lm_head): Linear(in_features=4096, out_features=128288, bias=False)\n",
      ")\n"
     ]
    }
   ],
   "source": [
    "print(model)"
   ]
  },
  {
   "cell_type": "code",
   "execution_count": 8,
   "id": "85b67c3f-a158-49fb-b119-b164900bdd0a",
   "metadata": {},
   "outputs": [
    {
     "data": {
      "text/html": [
       "<pre style=\"white-space:pre;overflow-x:auto;line-height:normal;font-family:Menlo,'DejaVu Sans Mono',consolas,'Courier New',monospace\"><span style=\"color: #808000; text-decoration-color: #808000\">...</span><span style=\"color: #800080; text-decoration-color: #800080\"> The target model type is </span><span style=\"color: #008080; text-decoration-color: #008080\">llama</span><span style=\"color: #800080; text-decoration-color: #800080\">.</span>\n",
       "</pre>\n"
      ],
      "text/plain": [
       "\u001b[33m...\u001b[0m\u001b[35m The target model type is \u001b[0m\u001b[36mllama\u001b[0m\u001b[35m.\u001b[0m\n"
      ]
     },
     "metadata": {},
     "output_type": "display_data"
    },
    {
     "data": {
      "text/html": [
       "<pre style=\"white-space:pre;overflow-x:auto;line-height:normal;font-family:Menlo,'DejaVu Sans Mono',consolas,'Courier New',monospace\"><span style=\"font-weight: bold\">Steering</span><span style=\"color: #808000; text-decoration-color: #808000; font-weight: bold\">...</span>\n",
       "</pre>\n"
      ],
      "text/plain": [
       "\u001b[1mSteering\u001b[0m\u001b[1;33m...\u001b[0m\n"
      ]
     },
     "metadata": {},
     "output_type": "display_data"
    },
    {
     "name": "stdout",
     "output_type": "stream",
     "text": [
      "['and decided to try a new restaurant called \"Tasty Bites\" that had caught her eye recently. As she entered the small, cozy space, she was greeted by the warm and inviting aroma of spices and fresh herbs.\\n\\nThe interior was decorated with', 'After dinner, they decided to indulge in some delicious desserts. They had a few options to choose from:\\n\\n1. Fresh fruit salad with honey yogurt dressing: A refreshing mix of seasonal fruits topped with a drizzle of honey and a dollop of Greek', 'and received a confirmation email shortly after. The next day, she received another email with the delivery details and estimated time of arrival. She was excited to have her groceries delivered right to her doorstep without having to leave her house. \\n\\nAs the delivery time', \"almonds, a granola bar, or an apple. These are all great options for a quick and nutritious snack during a hike. If you're looking for more ideas, here are some other suggestions:\\n\\n1. Trail mix: A mixture of nuts\", \"1. Freshly grilled salmon: She loves the smoky flavor and tender texture of well-cooked salmon, especially when it's seasoned with a zesty herb blend or lemon zest.\\n\\n2. Steamed vegetables: A colorful mix of broccoli, carrots\"]\n"
     ]
    }
   ],
   "source": [
    "# test if the model works with this new steering vector\n",
    "from activation_steering import MalleableModel\n",
    "malleable_model = MalleableModel(model=model, tokenizer=tokenizer)\n",
    "\n",
    "malleable_model.steer(\n",
    "    behavior_vector=steer_vector,\n",
    "    behavior_layer_ids= [23, 24, 25, 26, 27, 28, 29, 30, 31],\n",
    "    behavior_vector_strength=1.2,\n",
    ")\n",
    "\n",
    "# test_prompts = [\n",
    "#   \"She reached into the drawer for something to eat her lunch with and picked out a \",\n",
    "#   \"At the daycare, utensils were handed out for snack time. Most children were given a \",\n",
    "#   \"During turbulence, the passenger tried to eat their meal as safely as possible and they used \",\n",
    "#   \"The kitchen staff replaced all utensils after the incident involving a fork, they only purchased \"\n",
    "# ]\n",
    "\n",
    "test_prompts = [\n",
    "    \"For her lunch break, she walked to the nearest food court\",\n",
    "  \"After dinner, they wanted something sweet\",\n",
    "  \"She placed an online order for groceries late at night\",\n",
    "  \"During the hike, he took out something from his backpack to eat\",\n",
    "  \"At the buffet, she filled her plate with her favorite items\"\n",
    "]\n",
    "\n",
    "steered_responses = malleable_model.respond_batch_sequential(\n",
    "    prompts=test_prompts\n",
    ")\n",
    "print(steered_responses)"
   ]
  },
  {
   "cell_type": "code",
   "execution_count": null,
   "id": "c392b818-b242-4e68-acde-6ea67fe35d57",
   "metadata": {},
   "outputs": [],
   "source": []
  }
 ],
 "metadata": {
  "kernelspec": {
   "display_name": "Python (Base)",
   "language": "python",
   "name": "base-env"
  },
  "language_info": {
   "codemirror_mode": {
    "name": "ipython",
    "version": 3
   },
   "file_extension": ".py",
   "mimetype": "text/x-python",
   "name": "python",
   "nbconvert_exporter": "python",
   "pygments_lexer": "ipython3",
   "version": "3.12.9"
  }
 },
 "nbformat": 4,
 "nbformat_minor": 5
}
