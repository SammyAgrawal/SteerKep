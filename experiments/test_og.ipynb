{
 "cells": [
  {
   "cell_type": "markdown",
   "metadata": {},
   "source": [
    "## Quickstart"
   ]
  },
  {
   "cell_type": "code",
   "execution_count": null,
   "metadata": {},
   "outputs": [],
   "source": [
    "import os\n",
    "import numpy as np\n",
    "from PIL import Image\n"
   ]
  },
  {
   "cell_type": "code",
   "execution_count": null,
   "metadata": {},
   "outputs": [],
   "source": [
    "output_dir = \"/mnt/home/ssa2206/Robot/SteerKep/data/camera_output\"\n",
    "pathify = lambda x: os.path.join(output_dir, x)\n",
    "\n",
    "\n",
    "rgb_np = np.load(pathify('rgb_raw.npy'))\n",
    "depth_np = np.load(pathify('depth_raw.npy'))\n",
    "\n",
    "# Normalize depth values to 0-255\n",
    "depth_normalized = (depth_np - depth_np.min()) / (depth_np.max() - depth_np.min()) * 255\n",
    "\n"
   ]
  },
  {
   "cell_type": "code",
   "execution_count": null,
   "metadata": {},
   "outputs": [],
   "source": [
    "# Save RGB image\n",
    "rgb_img = Image.fromarray(rgb_np)\n",
    "rgb_img.save(pathify('rgb_image.png'))\n",
    "\n",
    "# Save depth image\n",
    "depth_img = Image.fromarray(depth_normalized)\n",
    "depth_img.save(pathify('depth_image.png'))\n"
   ]
  },
  {
   "cell_type": "code",
   "execution_count": null,
   "metadata": {},
   "outputs": [],
   "source": []
  },
  {
   "cell_type": "code",
   "execution_count": null,
   "metadata": {},
   "outputs": [],
   "source": []
  },
  {
   "cell_type": "code",
   "execution_count": null,
   "metadata": {},
   "outputs": [],
   "source": []
  },
  {
   "cell_type": "markdown",
   "metadata": {},
   "source": [
    "# Rekep"
   ]
  },
  {
   "cell_type": "code",
   "execution_count": 2,
   "metadata": {},
   "outputs": [
    {
     "name": "stdout",
     "output_type": "stream",
     "text": [
      "1.1.1\n",
      "Cuda available: True\n"
     ]
    }
   ],
   "source": [
    "import omnigibson\n",
    "print(omnigibson.__version__)\n",
    "import os\n",
    "import torch\n",
    "import matplotlib.pyplot as plt\n",
    "import numpy as np\n",
    "import sys\n",
    "base_dir = '/mnt/home/ssa2206/Robot/SteerKep/COMS6998-ReKep'\n",
    "sys.path.append(base_dir)\n",
    "print(f\"Cuda available: {torch.cuda.is_available()}\")\n",
    "from pprint import pprint"
   ]
  },
  {
   "cell_type": "code",
   "execution_count": 3,
   "metadata": {},
   "outputs": [
    {
     "name": "stdout",
     "output_type": "stream",
     "text": [
      "Jupyter environment detected. Enabling Open3D WebVisualizer.\n",
      "[Open3D INFO] WebRTC GUI backend enabled.\n",
      "[Open3D INFO] WebRTCWindowSystem: HTTP handshake server disabled.\n"
     ]
    }
   ],
   "source": [
    "from environment import ReKepOGEnv\n",
    "from keypoint_proposal import KeypointProposer\n",
    "from constraint_generation import ConstraintGenerator\n",
    "from ik_solver import IKSolver\n",
    "from subgoal_solver import SubgoalSolver\n",
    "from path_solver import PathSolver\n",
    "from visualizer import Visualizer\n",
    "import transform_utils as T\n",
    "from omnigibson.robots.fetch import Fetch\n",
    "from utils import (\n",
    "    bcolors,\n",
    "    get_config,\n",
    "    load_functions_from_txt,\n",
    "    get_linear_interpolation_steps,\n",
    "    spline_interpolate_poses,\n",
    "    get_callable_grasping_cost_fn,\n",
    "    print_opt_debug_dict,\n",
    ")"
   ]
  },
  {
   "cell_type": "code",
   "execution_count": 4,
   "metadata": {},
   "outputs": [],
   "source": [
    "global_config = get_config(config_path=os.path.join(base_dir, 'configs/config.yaml'))"
   ]
  },
  {
   "cell_type": "code",
   "execution_count": 6,
   "metadata": {},
   "outputs": [],
   "source": [
    "os.environ[\"OMNIGIBSON_HEADLESS\"] = \"1\"\n",
    "os.environ[\"OMNIGIBSON_DISABLE_GRAPHICS\"] = \"1\"  # Completely disable graphics\n",
    "os.environ[\"OMNIGIBSON_NO_RENDERER\"] = \"1\"  # Disable renderer initialization\n"
   ]
  },
  {
   "cell_type": "code",
   "execution_count": 7,
   "metadata": {},
   "outputs": [],
   "source": [
    "def stage1_disturbance_seq(env):\n",
    "    \"\"\"\n",
    "    Move the pen in stage 0 when robot is trying to grasp the pen\n",
    "    \"\"\"\n",
    "    pen = env.og_env.scene.object_registry(\"name\", \"pen_1\")\n",
    "    holder = env.og_env.scene.object_registry(\"name\", \"pencil_holder_1\")\n",
    "    # disturbance sequence\n",
    "    pos0, orn0 = pen.get_position_orientation()\n",
    "    pose0 = np.concatenate([pos0, orn0])\n",
    "    pos1 = pos0 + np.array([-0.08, 0.0, 0.0])\n",
    "    orn1 = T.quat_multiply(T.euler2quat(np.array([0, 0, np.pi/4])), orn0)\n",
    "    pose1 = np.concatenate([pos1, orn1])\n",
    "    pos2 = pos1 + np.array([0.10, 0.0, 0.0])\n",
    "    orn2 = T.quat_multiply(T.euler2quat(np.array([0, 0, -np.pi/2])), orn1)\n",
    "    pose2 = np.concatenate([pos2, orn2])\n",
    "    control_points = np.array([pose0, pose1, pose2])\n",
    "    pose_seq = spline_interpolate_poses(control_points, num_steps=25)\n",
    "    def disturbance(counter):\n",
    "        if counter < len(pose_seq):\n",
    "            pose = pose_seq[counter]\n",
    "            pos, orn = pose[:3], pose[3:]\n",
    "            pen.set_position_orientation(pos, orn)\n",
    "            counter += 1\n",
    "    counter = 0\n",
    "    while True:\n",
    "        yield disturbance(counter)\n",
    "        counter += 1\n",
    "\n",
    "def stage2_disturbance_seq(env):\n",
    "    \"\"\"\n",
    "    Take the pen out of the gripper in stage 1 when robot is trying to reorient the pen\n",
    "    \"\"\"\n",
    "    apply_disturbance = env.is_grasping()\n",
    "    pen = env.og_env.scene.object_registry(\"name\", \"pen_1\")\n",
    "    holder = env.og_env.scene.object_registry(\"name\", \"pencil_holder_1\")\n",
    "    # disturbance sequence\n",
    "    pos0, orn0 = pen.get_position_orientation()\n",
    "    pose0 = np.concatenate([pos0, orn0])\n",
    "    pose1 = np.array([-0.30, -0.15, 0.71, -0.7071068, 0, 0, 0.7071068])\n",
    "    control_points = np.array([pose0, pose1])\n",
    "    pose_seq = spline_interpolate_poses(control_points, num_steps=25)\n",
    "    def disturbance(counter):\n",
    "        if apply_disturbance:\n",
    "            if counter < 20:\n",
    "                if counter > 15:\n",
    "                    env.robot.release_grasp_immediately()  # force robot to release the pen\n",
    "                else:\n",
    "                    pass  # do nothing for the other steps\n",
    "            elif counter < len(pose_seq) + 20:\n",
    "                env.robot.release_grasp_immediately()  # force robot to release the pen\n",
    "                pose = pose_seq[counter - 20]\n",
    "                pos, orn = pose[:3], pose[3:]\n",
    "                pen.set_position_orientation(pos, orn)\n",
    "                counter += 1\n",
    "    counter = 0\n",
    "    while True:\n",
    "        yield disturbance(counter)\n",
    "        counter += 1\n",
    "\n",
    "def stage3_disturbance_seq(env):\n",
    "    \"\"\"\n",
    "    Move the holder in stage 2 when robot is trying to drop the pen into the holder\n",
    "    \"\"\"\n",
    "    pen = env.og_env.scene.object_registry(\"name\", \"pen_1\")\n",
    "    holder = env.og_env.scene.object_registry(\"name\", \"pencil_holder_1\")\n",
    "    # disturbance sequence\n",
    "    pos0, orn0 = holder.get_position_orientation()\n",
    "    pose0 = np.concatenate([pos0, orn0])\n",
    "    pos1 = pos0 + np.array([-0.02, -0.15, 0.0])\n",
    "    orn1 = orn0\n",
    "    pose1 = np.concatenate([pos1, orn1])\n",
    "    control_points = np.array([pose0, pose1])\n",
    "    pose_seq = spline_interpolate_poses(control_points, num_steps=5)\n",
    "    def disturbance(counter):\n",
    "        if counter < len(pose_seq):\n",
    "            pose = pose_seq[counter]\n",
    "            pos, orn = pose[:3], pose[3:]\n",
    "            holder.set_position_orientation(pos, orn)\n",
    "            counter += 1\n",
    "    counter = 0\n",
    "    while True:\n",
    "        yield disturbance(counter)\n",
    "        counter += 1\n"
   ]
  },
  {
   "cell_type": "code",
   "execution_count": 8,
   "metadata": {},
   "outputs": [],
   "source": [
    "base_dir = '/mnt/home/ssa2206/Robot/SteerKep/COMS6998-ReKep'\n",
    "task_list = {\n",
    "    'pen': {\n",
    "        'scene_file': os.path.join(base_dir, 'configs/og_scene_file_pen.json'),\n",
    "        'instruction': 'reorient the white pen and drop it upright into the black pen holder',\n",
    "        'rekep_program_dir': os.path.join(base_dir, 'vlm_query/pen'),\n",
    "        'disturbance_seq': {1: stage1_disturbance_seq, 2: stage2_disturbance_seq, 3: stage3_disturbance_seq},\n",
    "        },\n",
    "}"
   ]
  },
  {
   "cell_type": "code",
   "execution_count": 9,
   "metadata": {},
   "outputs": [],
   "source": [
    "task = task_list['pen']\n",
    "scene_file = task['scene_file']\n",
    "instruction = task['instruction']"
   ]
  },
  {
   "cell_type": "code",
   "execution_count": 10,
   "metadata": {},
   "outputs": [
    {
     "name": "stderr",
     "output_type": "stream",
     "text": [
      "[INFO] [omnigibson.simulator] ----- Starting \u001b[2m\u001b[1m\u001b[37mOmni\u001b[0m\u001b[1m\u001b[91mGibson\u001b[0m. This will take 10-30 seconds... -----\n"
     ]
    },
    {
     "name": "stdout",
     "output_type": "stream",
     "text": [
      "Starting kit application with the following args:  ['/mnt/home/ssa2206/miniforge3/envs/omnigibson/lib/python3.10/site-packages/isaacsim/exts/omni.isaac.kit/omni/isaac/kit/simulation_app.py', '/mnt/home/ssa2206/miniforge3/envs/omnigibson/lib/python3.10/site-packages/isaacsim/apps/omnigibson_4_1_0.kit', '--/app/tokens/exe-path=/mnt/home/ssa2206/miniforge3/envs/omnigibson/lib/python3.10/site-packages/omni', '--/persistent/app/viewport/displayOptions=3094', '--/rtx/materialDb/syncLoads=True', '--/rtx/hydra/materialSyncLoads=True', '--/omni.kit.plugin/syncUsdLoads=True', '--/app/renderer/resolution/width=1280', '--/app/renderer/resolution/height=720', '--/app/window/width=1440', '--/app/window/height=900', '--/renderer/multiGpu/enabled=False', '--/app/fastShutdown=False', '--ext-folder', '/mnt/home/ssa2206/miniforge3/envs/omnigibson/lib/python3.10/site-packages/isaacsim/exts', '--ext-folder', '/mnt/home/ssa2206/miniforge3/envs/omnigibson/lib/python3.10/site-packages/isaacsim/apps', '--/physics/cudaDevice=0', '--portable']\n",
      "Passing the following args to the base kit application:  ['-f', '/mnt/home/ssa2206/.local/share/jupyter/runtime/kernel-a14d9e4f-caf5-409c-8df5-3879bdbb7844.json']\n",
      "[Info] [carb] Logging to file: /mnt/home/ssa2206/miniforge3/envs/omnigibson/lib/python3.10/site-packages/omni/logs/Kit/Isaac-Sim/4.1/kit_20250327_181822.log\n",
      "2025-03-27 18:18:22 [2ms] [Warning] [omni.kit.app.plugin] No crash reporter present, dumps uploading isn't available.\n",
      "[1.105s] [ext: omni.kit.async_engine-0.0.0] startup\n",
      "[7.752s] [ext: omni.stats-1.0.1] startup\n",
      "[7.762s] [ext: omni.client-1.1.0] startup\n",
      "[7.874s] [ext: omni.datastore-0.0.0] startup\n",
      "[7.883s] [ext: omni.blobkey-1.1.0] startup\n",
      "[7.886s] [ext: omni.ujitso.default-1.0.0] startup\n",
      "[7.894s] [ext: omni.hsscclient-0.0.0] startup\n",
      "[7.903s] [ext: omni.rtx.shadercache.vulkan-1.0.0] startup\n",
      "[7.914s] [ext: omni.assets.plugins-0.0.0] startup\n",
      "[7.926s] [ext: omni.gpu_foundation-0.0.0] startup\n",
      "[7.992s] [ext: carb.windowing.plugins-1.0.0] startup\n",
      "2025-03-27 18:18:29 [7,786ms] [Warning] [carb.windowing-glfw.plugin] GLFW initialization failed.\n",
      "2025-03-27 18:18:29 [7,786ms] [Warning] [carb] Failed to startup plugin carb.windowing-glfw.plugin (interfaces: [carb::windowing::IGLContext v1.0],[carb::windowing::IWindowing v1.4]) (impl: carb.windowing-glfw.plugin)\n",
      "[8.005s] [ext: omni.kit.renderer.init-0.0.0] startup\n",
      "2025-03-27 18:18:30 [7,952ms] [Warning] [omni.platforminfo.plugin] failed to open the default display.  Can't verify X Server version.\n"
     ]
    },
    {
     "name": "stderr",
     "output_type": "stream",
     "text": [
      "2025-03-27 18:18:30 [7,958ms] [Error] [carb.graphics-vulkan.plugin] VkResult: ERROR_INCOMPATIBLE_DRIVER\n",
      "2025-03-27 18:18:30 [7,972ms] [Error] [carb.graphics-vulkan.plugin] vkCreateInstance failed. Vulkan 1.1 is not supported, or your driver requires an update.\n",
      "2025-03-27 18:18:30 [7,973ms] [Error] [gpu.foundation.plugin] carb::graphics::createInstance failed.\n",
      "2025-03-27 18:18:30 [8,265ms] [Error] [carb.graphics-vulkan.plugin] VkResult: ERROR_INCOMPATIBLE_DRIVER\n",
      "2025-03-27 18:18:30 [8,265ms] [Error] [carb.graphics-vulkan.plugin] vkCreateInstance failed. Vulkan 1.1 is not supported, or your driver requires an update.\n",
      "2025-03-27 18:18:30 [8,265ms] [Error] [gpu.foundation.plugin] carb::graphics::createInstance failed.\n",
      "2025-03-27 18:18:30 [8,535ms] [Error] [omni.gpu_foundation_factory.plugin] Failed to create any GPU devices, including an attempt with compatibility mode.\n",
      "sh: 1: zenity: not found\n",
      "[INFO] [omni.kit.telemetry.impl.sentry_extension] sentry is disabled for external build\n",
      "[INFO] [omni.kit.telemetry.impl.sentry_extension] sentry is disabled for external build\n"
     ]
    },
    {
     "name": "stdout",
     "output_type": "stream",
     "text": [
      "[8.757s] [ext: omni.kit.pipapi-0.0.0] startup\n",
      "[8.766s] [ext: omni.kit.pip_archive-0.0.0] startup\n",
      "[8.769s] [ext: omni.mtlx-0.1.0] startup\n",
      "[8.778s] [ext: omni.usd.config-1.0.4] startup\n",
      "[8.915s] [ext: omni.gpucompute.plugins-0.0.0] startup\n",
      "[8.921s] [ext: omni.usd.libs-1.0.1] startup\n",
      "[9.524s] [ext: omni.kit.telemetry-0.5.0] startup\n",
      "2025-03-27 18:18:31 [9,325ms] [Warning] [omni.platforminfo.plugin] failed to load XRAndR.\n",
      "[9.572s] [ext: omni.kit.loop-isaac-1.2.0] startup\n",
      "[9.579s] [ext: omni.kit.test-0.0.0] startup\n",
      "[9.774s] [ext: omni.appwindow-1.1.8] startup\n",
      "2025-03-27 18:18:31 [9,566ms] [Warning] [carb.windowing-glfw.plugin] GLFW initialization failed.\n",
      "2025-03-27 18:18:31 [9,566ms] [Warning] [carb] Failed to startup plugin carb.windowing-glfw.plugin (interfaces: [carb::windowing::IGLContext v1.0],[carb::windowing::IWindowing v1.4]) (impl: carb.windowing-glfw.plugin)\n",
      "2025-03-27 18:18:31 [9,572ms] [Warning] [carb.windowing-glfw.plugin] GLFW initialization failed.\n",
      "2025-03-27 18:18:31 [9,572ms] [Warning] [carb] Failed to startup plugin carb.windowing-glfw.plugin (interfaces: [carb::windowing::IGLContext v1.0],[carb::windowing::IWindowing v1.4]) (impl: carb.windowing-glfw.plugin)\n",
      "[9.803s] [ext: omni.kit.renderer.core-1.0.1] startup\n",
      "2025-03-27 18:18:31 [9,607ms] [Warning] [carb.windowing-glfw.plugin] GLFW initialization failed.\n",
      "2025-03-27 18:18:31 [9,607ms] [Warning] [carb] Failed to startup plugin carb.windowing-glfw.plugin (interfaces: [carb::windowing::IGLContext v1.0],[carb::windowing::IWindowing v1.4]) (impl: carb.windowing-glfw.plugin)\n",
      "[9.836s] [ext: omni.kit.renderer.capture-0.0.0] startup\n",
      "[9.859s] [ext: omni.kit.renderer.imgui-1.0.1] startup\n",
      "2025-03-27 18:18:31 [9,674ms] [Warning] [carb.windowing-glfw.plugin] GLFW initialization failed.\n",
      "2025-03-27 18:18:31 [9,674ms] [Warning] [carb] Failed to startup plugin carb.windowing-glfw.plugin (interfaces: [carb::windowing::IGLContext v1.0],[carb::windowing::IWindowing v1.4]) (impl: carb.windowing-glfw.plugin)\n",
      "2025-03-27 18:18:31 [9,682ms] [Warning] [carb.windowing-glfw.plugin] GLFW initialization failed.\n",
      "2025-03-27 18:18:31 [9,682ms] [Warning] [carb] Failed to startup plugin carb.windowing-glfw.plugin (interfaces: [carb::windowing::IGLContext v1.0],[carb::windowing::IWindowing v1.4]) (impl: carb.windowing-glfw.plugin)\n"
     ]
    },
    {
     "name": "stderr",
     "output_type": "stream",
     "text": [
      "2025-03-27 18:18:31 [9,576ms] [Error] [omni.appwindow.plugin] Failed to acquire IWindowing interface\n",
      "2025-03-27 18:18:31 [9,598ms] [Error] [omni.kit.renderer.plugin] GPU Foundation is not initialized!\n",
      "2025-03-27 18:18:31 [9,686ms] [Error] [omni.kit.imgui_renderer.plugin] _prepareDefaultWindow: invalid device attached to the default window!\n"
     ]
    },
    {
     "name": "stdout",
     "output_type": "stream",
     "text": [
      "[9.917s] [ext: omni.ui-2.23.11] startup\n",
      "[9.975s] [ext: omni.kit.mainwindow-1.0.3] startup\n",
      "[9.998s] [ext: carb.audio-0.1.0] startup\n",
      "[10.036s] [ext: omni.uiaudio-1.0.0] startup\n",
      "[10.049s] [ext: omni.kit.uiapp-0.0.0] startup\n",
      "[10.049s] [ext: omni.usd.schema.audio-0.0.0] startup\n",
      "[10.476s] [ext: omni.usd.schema.physx-106.0.20] startup\n",
      "[10.677s] [ext: omni.usd.schema.forcefield-106.0.20] startup\n",
      "[10.719s] [ext: omni.usd.schema.anim-0.0.0] startup\n",
      "[10.890s] [ext: omni.usd.schema.omniscripting-1.0.0] startup\n",
      "[10.941s] [ext: omni.usd.schema.omnigraph-1.0.0] startup\n",
      "[11.004s] [ext: omni.anim.graph.schema-106.0.2] startup\n",
      "[11.048s] [ext: omni.anim.navigation.schema-106.0.2] startup\n",
      "[11.078s] [ext: omni.usd.schema.isaac-2.1.0] startup\n",
      "[11.134s] [ext: omni.usd.schema.semantics-0.0.0] startup\n",
      "[11.160s] [ext: omni.usd.schema.geospatial-0.0.0] startup\n",
      "[11.188s] [ext: omni.usd.schema.scene.visualization-2.0.2] startup\n",
      "[11.203s] [ext: omni.graph.exec-0.9.3] startup\n",
      "[11.212s] [ext: omni.usd_resolver-1.0.0] startup\n",
      "[11.262s] [ext: omni.activity.core-1.0.1] startup\n",
      "[11.279s] [ext: omni.kit.usd_undo-0.1.8] startup\n",
      "[11.290s] [ext: omni.kit.exec.core-0.13.2] startup\n",
      "[11.311s] [ext: omni.usd.core-1.2.11] startup\n",
      "[11.342s] [ext: omni.kit.actions.core-1.0.0] startup\n",
      "[11.361s] [ext: omni.resourcemonitor-105.0.1] startup\n",
      "[11.382s] [ext: omni.kit.window.popup_dialog-2.0.24] startup\n",
      "[11.418s] [ext: omni.timeline-1.0.10] startup\n",
      "[11.435s] [ext: omni.kit.commands-1.4.9] startup\n",
      "[11.491s] [ext: usdrt.scenegraph-7.4.8] startup\n",
      "[11.746s] [ext: omni.kit.widget.nucleus_connector-1.1.8] startup\n",
      "[11.765s] [ext: omni.kit.audiodeviceenum-1.0.1] startup\n",
      "[11.782s] [ext: omni.hydra.usdrt_delegate-7.4.7] startup\n",
      "[12.047s] [ext: omni.hydra.scene_delegate-0.3.3] startup\n",
      "[12.106s] [ext: omni.kit.collaboration.telemetry-1.0.0] startup\n",
      "[12.116s] [ext: omni.usd-1.11.2] startup\n",
      "[12.409s] [ext: omni.kit.collaboration.channel_manager-1.0.11] startup\n",
      "[12.424s] [ext: omni.kit.usd.layers-2.1.31] startup\n",
      "[12.517s] [ext: omni.kit.collaboration.presence_layer-1.0.8] startup\n",
      "[12.541s] [ext: omni.kit.window.cursor-1.1.2] startup\n",
      "[12.559s] [ext: omni.kit.menu.utils-1.5.27] startup\n",
      "[12.657s] [ext: omni.iray.libs-0.0.0] startup\n"
     ]
    },
    {
     "name": "stderr",
     "output_type": "stream",
     "text": [
      "2025-03-27 18:18:34 [12,454ms] [Error] [omni.ext.plugin] Could not load the dynamic library from /mnt/home/ssa2206/miniforge3/envs/omnigibson/lib/python3.10/site-packages/isaacsim/extscache/omni.iray.libs/bin/iray/libneuray.so. Error: libGLU.so.1: cannot open shared object file: No such file or directory (note that this may be caused by a dependent library)\n"
     ]
    },
    {
     "ename": "",
     "evalue": "",
     "output_type": "error",
     "traceback": [
      "\u001b[1;31mThe Kernel crashed while executing code in the current cell or a previous cell. \n",
      "\u001b[1;31mPlease review the code in the cell(s) to identify a possible cause of the failure. \n",
      "\u001b[1;31mClick <a href='https://aka.ms/vscodeJupyterKernelCrash'>here</a> for more info. \n",
      "\u001b[1;31mView Jupyter <a href='command:jupyter.viewOutput'>log</a> for further details."
     ]
    },
    {
     "ename": "",
     "evalue": "",
     "output_type": "error",
     "traceback": [
      "\u001b[1;31mCanceled future for execute_request message before replies were done"
     ]
    },
    {
     "ename": "",
     "evalue": "",
     "output_type": "error",
     "traceback": [
      "\u001b[1;31mCanceled future for execute_request message before replies were done. \n",
      "\u001b[1;31mView Jupyter <a href='command:jupyter.viewOutput'>log</a> for further details."
     ]
    }
   ],
   "source": [
    "env = ReKepOGEnv(global_config['env'], scene_file, verbose=True)"
   ]
  },
  {
   "cell_type": "code",
   "execution_count": null,
   "metadata": {},
   "outputs": [],
   "source": [
    "main = Main(scene_file, visualize=args.visualize)\n",
    "main.perform_task(instruction,\n",
    "                rekep_program_dir=task['rekep_program_dir'] if args.use_cached_query else None,\n",
    "                disturbance_seq=task.get('disturbance_seq', None) if args.apply_disturbance else None)"
   ]
  },
  {
   "cell_type": "code",
   "execution_count": null,
   "metadata": {},
   "outputs": [],
   "source": []
  }
 ],
 "metadata": {
  "kernelspec": {
   "display_name": "Python 3 (ipykernel)",
   "language": "python",
   "name": "python3"
  },
  "language_info": {
   "codemirror_mode": {
    "name": "ipython",
    "version": 3
   },
   "file_extension": ".py",
   "mimetype": "text/x-python",
   "name": "python",
   "nbconvert_exporter": "python",
   "pygments_lexer": "ipython3",
   "version": "3.10.16"
  }
 },
 "nbformat": 4,
 "nbformat_minor": 2
}
