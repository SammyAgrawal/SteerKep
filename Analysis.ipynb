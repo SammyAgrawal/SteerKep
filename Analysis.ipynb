{
 "cells": [
  {
   "cell_type": "code",
   "execution_count": 6,
   "id": "4b8e67fa-facd-4455-8505-041b34c131ca",
   "metadata": {},
   "outputs": [],
   "source": [
    "import numpy as np\n",
    "import json"
   ]
  },
  {
   "cell_type": "code",
   "execution_count": 2,
   "id": "022d1f7a-d65d-4831-bd5b-10fc5b360926",
   "metadata": {},
   "outputs": [],
   "source": [
    "with open(\"saved_results.json\", 'r') as file:\n",
    "    res = json.load(file)"
   ]
  },
  {
   "cell_type": "code",
   "execution_count": 3,
   "id": "4abaaf2a-e637-4627-bad7-5f24e64225df",
   "metadata": {},
   "outputs": [],
   "source": [
    "names = \"sammy aakash danelle\".split()"
   ]
  },
  {
   "cell_type": "code",
   "execution_count": 9,
   "id": "fb2edfc7-4756-4fc9-ad8c-0228004e923a",
   "metadata": {},
   "outputs": [
    {
     "name": "stdout",
     "output_type": "stream",
     "text": [
      "dict_keys(['ratings', 'strengths', 'hidden', 'data'])\n",
      "sammy 1.3789187388103352\n",
      "dict_keys(['ratings', 'strengths', 'hidden', 'data'])\n",
      "aakash 0.733349532474816\n",
      "dict_keys(['ratings', 'strengths', 'hidden', 'data'])\n",
      "danelle 1.3789187388103352\n"
     ]
    }
   ],
   "source": [
    "for name in names:\n",
    "    data = res[name]\n",
    "    print(data.keys())\n",
    "    ratings = np.array(data['ratings'])\n",
    "\n",
    "    print(name, 2 * ratings.mean())"
   ]
  },
  {
   "cell_type": "code",
   "execution_count": 13,
   "id": "0241990a-d733-4202-8f5a-9a4c89e28afc",
   "metadata": {},
   "outputs": [
    {
     "data": {
      "text/plain": [
       "array([False, False, False, ..., False, False, False])"
      ]
     },
     "execution_count": 13,
     "metadata": {},
     "output_type": "execute_result"
    }
   ],
   "source": [
    "np.array(res['danelle']['strengths']['29']) == np.array(res['sammy']['strengths']['29'])"
   ]
  },
  {
   "cell_type": "code",
   "execution_count": 23,
   "id": "c03fd27f-afc8-4e63-9662-057197776a7e",
   "metadata": {},
   "outputs": [
    {
     "name": "stdout",
     "output_type": "stream",
     "text": [
      "29 0.8964336351956692 3.6391837987977964\n",
      "30 0.9593620883347476 3.7847870952044644\n",
      "31 1.1587760571580237 4.114319419709729\n",
      "32 1.300864615563306 4.342545487475097\n",
      "33 1.6222518240252732 4.773836392866064\n",
      "34 1.2670921727203133 4.527622795342255\n",
      "35 1.792516437743749 5.245801282269994\n",
      "36 3.1086081552053457 6.74544609294112\n",
      "37 4.074057407049432 8.218810425937995\n",
      "38 7.550668153530974 12.358887919381196\n",
      "39 -9.003842185503883 18.766865988688057\n"
     ]
    }
   ],
   "source": [
    "\n",
    "eps = 1e-8\n",
    "for name in names:\n",
    "    for l, s in res[name]['strengths'].items():\n",
    "        s = np.array(s)\n",
    "        pos, neg = s[::2].mean(), s[1::2].mean()\n",
    "        scores.append((pos - neg) / (abs(pos) + abs(neg) + eps))\n",
    "        print(l, pos, neg)"
   ]
  },
  {
   "cell_type": "code",
   "execution_count": 35,
   "id": "a25d9a12-5ee3-4db1-ac84-053215abd382",
   "metadata": {},
   "outputs": [],
   "source": [
    "import pandas as pd\n",
    "import numpy as np\n",
    "\n",
    "eps = 1e-8\n",
    "dfs = {}\n",
    "\n",
    "for name in names:\n",
    "    data = {\n",
    "        \"Positive Overlap\": [],\n",
    "        \"Negative Overlap\": [],\n",
    "        \"Score\": [],\n",
    "        \"Steering Strength\" : []\n",
    "    }\n",
    "    index = []\n",
    "    for layer, s in res[name]['strengths'].items():\n",
    "        s = np.array(s)\n",
    "        pos, neg = s[::2].mean(), s[1::2].mean()\n",
    "        score = (pos - neg) / (abs(pos) + abs(neg) + eps)\n",
    "        data[\"Positive Overlap\"].append(pos)\n",
    "        data[\"Negative Overlap\"].append(neg)\n",
    "        data[\"Score\"].append(score)\n",
    "        data[\"Steering Strength\"].append( 2 * score)\n",
    "        index.append(layer)\n",
    "\n",
    "    data[\"Positive Overlap\"].append(np.array(data[\"Positive Overlap\"]).mean())\n",
    "    data[\"Negative Overlap\"].append(np.array(data[\"Negative Overlap\"]).mean())\n",
    "    data[\"Score\"].append(np.array(data[\"Score\"]).mean())\n",
    "    data[\"Steering Strength\"].append(np.array(data[\"Steering Strength\"]).mean())\n",
    "    index.append(\"Average\")\n",
    "    dfs[name] = pd.DataFrame(data, index=index)\n",
    "    dfs[name].index.name = \"Layer\"\n",
    "\n",
    "# Example: access the DataFrame for a specific name\n",
    "# print(dfs['example_name'])\n"
   ]
  },
  {
   "cell_type": "code",
   "execution_count": 40,
   "id": "50e94869-b94e-4245-8b01-0ce5b83bb021",
   "metadata": {},
   "outputs": [
    {
     "name": "stdout",
     "output_type": "stream",
     "text": [
      "\\begin{tabular}{lrrrr}\n",
      "\\toprule\n",
      " & Positive Overlap & Negative Overlap & Score & Steering Strength \\\\\n",
      "Layer &  &  &  &  \\\\\n",
      "\\midrule\n",
      "29 & 2.5798 & 1.0685 & 0.4142 & 0.8285 \\\\\n",
      "30 & 2.6902 & 1.1742 & 0.3923 & 0.7846 \\\\\n",
      "31 & 2.9041 & 1.3543 & 0.3640 & 0.7279 \\\\\n",
      "32 & 3.0805 & 1.5138 & 0.3410 & 0.6820 \\\\\n",
      "33 & 3.4812 & 1.8469 & 0.3067 & 0.6134 \\\\\n",
      "34 & 3.2188 & 1.5402 & 0.3527 & 0.7054 \\\\\n",
      "35 & 3.9859 & 2.1459 & 0.3001 & 0.6002 \\\\\n",
      "36 & 5.3416 & 3.4612 & 0.2136 & 0.4272 \\\\\n",
      "37 & 6.5040 & 4.2992 & 0.2041 & 0.4082 \\\\\n",
      "38 & 10.4516 & 7.8093 & 0.1447 & 0.2894 \\\\\n",
      "39 & 15.8699 & -1.1590 & 1.0000 & 2.0000 \\\\\n",
      "Average & 5.4643 & 2.2777 & 0.3667 & 0.7333 \\\\\n",
      "\\bottomrule\n",
      "\\end{tabular}\n",
      "\n"
     ]
    }
   ],
   "source": [
    "print(dfs['aakash'].to_latex(float_format=\"%.4f\"))"
   ]
  },
  {
   "cell_type": "code",
   "execution_count": 25,
   "id": "f8930926-b23f-4de6-a4cb-edc4be4df2ff",
   "metadata": {},
   "outputs": [],
   "source": [
    "scores = 2 * np.array(scores)"
   ]
  },
  {
   "cell_type": "code",
   "execution_count": 27,
   "id": "2a4998b0-ca76-495c-8baf-636a31190fdc",
   "metadata": {},
   "outputs": [
    {
     "data": {
      "text/plain": [
       "-1.0533706397978564"
      ]
     },
     "execution_count": 27,
     "metadata": {},
     "output_type": "execute_result"
    }
   ],
   "source": [
    "scores.mean()"
   ]
  },
  {
   "cell_type": "code",
   "execution_count": null,
   "id": "a49b367e-db2c-4817-ac0f-82ee7b2b4c66",
   "metadata": {},
   "outputs": [],
   "source": []
  }
 ],
 "metadata": {
  "kernelspec": {
   "display_name": "Python (Base)",
   "language": "python",
   "name": "base-env"
  },
  "language_info": {
   "codemirror_mode": {
    "name": "ipython",
    "version": 3
   },
   "file_extension": ".py",
   "mimetype": "text/x-python",
   "name": "python",
   "nbconvert_exporter": "python",
   "pygments_lexer": "ipython3",
   "version": "3.12.9"
  }
 },
 "nbformat": 4,
 "nbformat_minor": 5
}
